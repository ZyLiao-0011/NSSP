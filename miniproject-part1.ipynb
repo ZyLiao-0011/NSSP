{
 "cells": [
  {
   "cell_type": "markdown",
   "id": "3b6be0d0-5d67-4262-b640-0d05abcae270",
   "metadata": {},
   "source": [
    "# NSSP - Miniproject1"
   ]
  },
  {
   "cell_type": "code",
   "execution_count": 1,
   "id": "ecb6a67b-8658-43d8-8ba5-942af22fe264",
   "metadata": {},
   "outputs": [
    {
     "name": "stderr",
     "output_type": "stream",
     "text": [
      "Gtk-Message: 11:50:19.686: Failed to load module \"canberra-gtk-module\"\n"
     ]
    }
   ],
   "source": [
    "%gui wx\n",
    "import sys\n",
    "import os\n",
    "\n",
    "#####################\n",
    "# Import of utils.py functions\n",
    "#####################\n",
    "# Required to get utils.py and access its functions\n",
    "notebook_dir = os.path.abspath(\"\")\n",
    "parent_dir = os.path.abspath(os.path.join(notebook_dir, '..'))\n",
    "sys.path.append(parent_dir)\n",
    "sys.path.append('.')\n",
    "from utils import loadFSL, FSLeyesServer, mkdir_no_exist, interactive_MCQ\n",
    "\n",
    "####################\n",
    "# DIPY_HOME should be set prior to import of dipy to make sure all downloads point to the right folder\n",
    "####################\n",
    "os.environ[\"DIPY_HOME\"] = \"/home/jovyan/Data\"\n",
    "\n",
    "\n",
    "#############################\n",
    "# Loading fsl and freesurfer within Neurodesk\n",
    "#############################\n",
    "import lmod\n",
    "await lmod.purge(force=True)\n",
    "await lmod.load('fsl/6.0.7.4')\n",
    "await lmod.load('freesurfer/7.4.1')\n",
    "await lmod.list()\n",
    "\n",
    "####################\n",
    "# Setup FSL path\n",
    "####################\n",
    "loadFSL()\n",
    "\n",
    "###################\n",
    "# Load all relevant libraries for the lab\n",
    "##################\n",
    "import fsl.wrappers\n",
    "from fsl.wrappers import fslmaths\n",
    "\n",
    "import mne_nirs\n",
    "import nilearn\n",
    "from nilearn.datasets import fetch_development_fmri\n",
    "\n",
    "import mne\n",
    "import mne_nirs\n",
    "import dipy\n",
    "from dipy.data import fetch_bundles_2_subjects, read_bundles_2_subjects\n",
    "import xml.etree.ElementTree as ET\n",
    "import os.path as op\n",
    "import nibabel as nib\n",
    "import glob\n",
    "\n",
    "import ants\n",
    "\n",
    "import openneuro\n",
    "from mne.datasets import sample\n",
    "from mne_bids import BIDSPath, read_raw_bids, print_dir_tree, make_report\n",
    "\n",
    "\n",
    "# Useful imports to define the direct download function below\n",
    "import requests\n",
    "import urllib.request\n",
    "from tqdm import tqdm\n",
    "\n",
    "\n",
    "# FSL function wrappers which we will call from python directly\n",
    "from fsl.wrappers import fast, bet\n",
    "from fsl.wrappers.misc import fslroi\n",
    "from fsl.wrappers import flirt\n",
    "\n",
    "# General purpose imports to handle paths, files etc\n",
    "import glob\n",
    "import pandas as pd\n",
    "import numpy as np\n",
    "import json\n",
    "import subprocess"
   ]
  },
  {
   "cell_type": "code",
   "execution_count": 2,
   "id": "abf3ad14-59eb-4780-8f51-ce6d0283621f",
   "metadata": {},
   "outputs": [
    {
     "name": "stderr",
     "output_type": "stream",
     "text": [
      "11:50:33: Debug: Adding duplicate image handler for 'Windows bitmap file'\n",
      "11:50:33: Debug: Adding duplicate animation handler for '1' type\n",
      "11:50:33: Debug: Adding duplicate animation handler for '2' type\n",
      "11:50:34: Debug: Adding duplicate image handler for 'Windows bitmap file'\n",
      "11:50:34: Debug: Adding duplicate animation handler for '1' type\n",
      "11:50:34: Debug: Adding duplicate animation handler for '2' type\n",
      "\n",
      "(ipykernel_launcher.py:438): Gtk-CRITICAL **: 11:50:34.677: gtk_window_resize: assertion 'height > 0' failed\n",
      "11:50:35: Debug: ScreenToClient cannot work when toplevel window is not shown\n",
      "11:50:35: Debug: ScreenToClient cannot work when toplevel window is not shown\n",
      "11:50:35: Debug: ScreenToClient cannot work when toplevel window is not shown\n",
      "11:50:35: Debug: ScreenToClient cannot work when toplevel window is not shown\n",
      "11:50:35: Debug: ScreenToClient cannot work when toplevel window is not shown\n",
      "11:50:35: Debug: ScreenToClient cannot work when toplevel window is not shown\n",
      "11:50:35: Debug: ScreenToClient cannot work when toplevel window is not shown\n",
      "11:50:35: Debug: ScreenToClient cannot work when toplevel window is not shown\n",
      "11:50:35: Debug: ScreenToClient cannot work when toplevel window is not shown\n",
      "11:50:35: Debug: ScreenToClient cannot work when toplevel window is not shown\n",
      "11:50:35: Debug: ScreenToClient cannot work when toplevel window is not shown\n"
     ]
    }
   ],
   "source": [
    "################\n",
    "# Start FSLeyes within Python\n",
    "################\n",
    "fsleyesDisplay = FSLeyesServer()\n",
    "fsleyesDisplay.show()"
   ]
  },
  {
   "cell_type": "code",
   "execution_count": 3,
   "id": "c608bd8c-1125-4db1-9b2e-e15cf160e213",
   "metadata": {},
   "outputs": [],
   "source": [
    "class DownloadProgressBar(tqdm):\n",
    "    def update_to(self, b=1, bsize=1, tsize=None):\n",
    "        if tsize is not None:\n",
    "            self.total = tsize\n",
    "        self.update(b * bsize - self.n)\n",
    "\n",
    "def download_url(url, output_path):\n",
    "    with DownloadProgressBar(unit='B', unit_scale=True,\n",
    "                             miniters=1, desc=url.split('/')[-1]) as t:\n",
    "        urllib.request.urlretrieve(url, filename=output_path, reporthook=t.update_to)\n",
    "\n",
    "def direct_file_download_open_neuro(file_list, file_types, dataset_id, dataset_version, save_dirs):\n",
    "    # https://openneuro.org/crn/datasets/ds004226/snapshots/1.0.0/files/sub-001:sub-001_scans.tsv\n",
    "    for i, n in enumerate(file_list):\n",
    "        subject = n.split('_')[0]\n",
    "        download_link = 'https://openneuro.org/crn/datasets/{}/snapshots/{}/files/{}:{}:{}'.format(dataset_id, dataset_version, subject, file_types[i],n)\n",
    "        print('Attempting download from ', download_link)\n",
    "        download_url(download_link, op.join(save_dirs[i], n))\n",
    "        print('Ok')\n",
    "        \n",
    "def get_json_from_file(fname):\n",
    "    f = open(fname)\n",
    "    data = json.load(f)\n",
    "    f.close()\n",
    "    return data"
   ]
  },
  {
   "cell_type": "markdown",
   "id": "ad64a839-80ff-427f-b93e-3c44c8204783",
   "metadata": {},
   "source": [
    "## 0. Download Datasets"
   ]
  },
  {
   "cell_type": "code",
   "execution_count": 4,
   "id": "592e99f0-730c-4886-a133-40e849b125ab",
   "metadata": {
    "scrolled": true
   },
   "outputs": [
    {
     "name": "stdout",
     "output_type": "stream",
     "text": [
      "\n",
      "👋 Hello! This is openneuro-py 2024.2.0. Great to see you! 🤗\n",
      "\n",
      "   👉 Please report problems 🤯 and bugs 🪲 at\n",
      "      https://github.com/hoechenberger/openneuro-py/issues\n",
      "\n",
      "🌍 Preparing to download ds000171 …\n"
     ]
    },
    {
     "name": "stderr",
     "output_type": "stream",
     "text": [
      "📁 Traversing directories for ds000171 : 436 entities [00:29, 14.70 entities/s]\n"
     ]
    },
    {
     "name": "stdout",
     "output_type": "stream",
     "text": [
      "📥 Retrieving up to 15 files (5 concurrent downloads). \n"
     ]
    },
    {
     "name": "stderr",
     "output_type": "stream",
     "text": [
      "dataset_description.json:   0%|          | 0.00/2.79k [00:00<?, ?B/s]\n",
      "                                                                     \n",
      "sub-control01_T1w.nii.gz:   1%|          | 51.5k/8.77M [00:00<00:29, 313kB/s]\n",
      "sub-control01_task-music_run-1_bold.nii.gz:   0%|          | 0.00/33.8M [00:00<?, ?B/s]\u001b[A\n",
      "\n",
      "sub-control01_task-music_run-2_events.tsv:   0%|          | 0.00/339 [00:00<?, ?B/s]\u001b[A\u001b[A\n",
      "\n",
      "sub-control01_T1w.nii.gz:   1%|▏         | 119k/8.77M [00:00<00:25, 354kB/s]        \u001b[A\u001b[A\n",
      "\n",
      "sub-control01_task-music_run-3_bold.nii.gz:   0%|          | 0.00/33.9M [00:00<?, ?B/s]\u001b[A\u001b[A\n",
      "\n",
      "\n",
      "sub-control01_task-music_run-2_bold.nii.gz:   0%|          | 0.00/33.9M [00:00<?, ?B/s]\u001b[A\u001b[A\u001b[A\n",
      "sub-control01_T1w.nii.gz:   2%|▏         | 188k/8.77M [00:00<00:24, 366kB/s]:00<01:35, 371kB/s]\u001b[A\n",
      "sub-control01_task-music_run-1_bold.nii.gz:   1%|          | 236k/33.8M [00:00<00:36, 961kB/s] \u001b[A\n",
      "\n",
      "sub-control01_task-music_run-3_bold.nii.gz:   0%|          | 50.5k/33.9M [00:00<02:06, 281kB/s]\u001b[A\u001b[A\n",
      "\n",
      "\n",
      "sub-control01_task-music_run-2_bold.nii.gz:   0%|          | 83.6k/33.9M [00:00<01:16, 463kB/s]\u001b[A\u001b[A\u001b[A\n",
      "\n",
      "\n",
      "\n",
      "sub-control01_task-music_run-3_events.tsv:   0%|          | 0.00/339 [00:00<?, ?B/s]\u001b[A\u001b[A\u001b[A\u001b[A\n",
      "\n",
      "\n",
      "\n",
      "                                                                                    \u001b[A\u001b[A\u001b[A\u001b[A\n",
      "sub-control01_task-music_run-1_bold.nii.gz:   1%|          | 373k/33.8M [00:00<00:32, 1.10MB/s]\u001b[A\n",
      "\n",
      "sub-control01_T1w.nii.gz:   3%|▎         | 256k/8.77M [00:00<00:24, 372kB/s]:00<01:58, 299kB/s]\u001b[A\u001b[A\n",
      "sub-control01_task-music_run-1_bold.nii.gz:   3%|▎         | 1.16M/33.8M [00:00<00:09, 3.61MB/s]\u001b[A\n",
      "\n",
      "\n",
      "sub-control01_task-music_run-2_bold.nii.gz:   1%|          | 305k/33.9M [00:00<00:39, 901kB/s] \u001b[A\u001b[A\u001b[A\n",
      "\n",
      "sub-control01_task-music_run-3_bold.nii.gz:   0%|          | 147k/33.9M [00:00<01:43, 342kB/s] \u001b[A\u001b[A\n",
      "sub-control01_T1w.nii.gz:   4%|▎         | 332k/8.77M [00:00<00:20, 428kB/s]:00<00:06, 5.20MB/s]\u001b[A\n",
      "\n",
      "\n",
      "sub-control01_task-music_run-2_bold.nii.gz:   2%|▏         | 731k/33.9M [00:00<00:17, 1.97MB/s]\u001b[A\u001b[A\u001b[A\n",
      "sub-control01_task-music_run-1_bold.nii.gz:  12%|█▏        | 3.90M/33.8M [00:00<00:03, 10.0MB/s]\u001b[A\n",
      "\n",
      "\n",
      "sub-control01_T1w.nii.gz:   4%|▍         | 381k/8.77M [00:00<00:21, 411kB/s]:00<00:10, 3.31MB/s]\u001b[A\u001b[A\u001b[A\n",
      "\n",
      "sub-control01_task-music_run-3_bold.nii.gz:   1%|          | 213k/33.9M [00:00<01:39, 354kB/s]\u001b[A\u001b[A\n",
      "\n",
      "\n",
      "\n",
      "sub-control01_task-nonmusic_run-4_bold.nii.gz:   0%|          | 0.00/33.9M [00:00<?, ?B/s]\u001b[A\u001b[A\u001b[A\u001b[A\n",
      "sub-control01_task-music_run-1_bold.nii.gz:  22%|██▏       | 7.34M/33.8M [00:00<00:01, 16.2MB/s]\u001b[A\n",
      "\n",
      "\n",
      "sub-control01_T1w.nii.gz:   5%|▌         | 466k/8.77M [00:01<00:18, 477kB/s]:00<00:03, 8.59MB/s]\u001b[A\u001b[A\u001b[A\n",
      "\n",
      "sub-control01_task-music_run-3_bold.nii.gz:   1%|          | 298k/33.9M [00:00<01:27, 401kB/s]\u001b[A\u001b[A\n",
      "sub-control01_task-music_run-1_bold.nii.gz:  31%|███       | 10.6M/33.8M [00:00<00:01, 21.2MB/s]\u001b[A\n",
      "\n",
      "\n",
      "sub-control01_task-music_run-2_bold.nii.gz:  19%|█▉        | 6.45M/33.9M [00:00<00:02, 13.6MB/s]\u001b[A\u001b[A\u001b[A\n",
      "\n",
      "\n",
      "\n",
      "sub-control01_T1w.nii.gz:   6%|▌         | 517k/8.77M [00:01<00:19, 449kB/s][00:00<01:37, 362kB/s]\u001b[A\u001b[A\u001b[A\u001b[A\n",
      "sub-control01_task-music_run-1_bold.nii.gz:  41%|████      | 13.9M/33.8M [00:01<00:00, 25.1MB/s]\u001b[A\n",
      "\n",
      "\n",
      "sub-control01_task-music_run-2_bold.nii.gz:  25%|██▍       | 8.45M/33.9M [00:00<00:01, 15.5MB/s]\u001b[A\u001b[A\u001b[A\n",
      "\n",
      "sub-control01_task-music_run-3_bold.nii.gz:   1%|          | 383k/33.9M [00:01<01:22, 427kB/s]\u001b[A\u001b[A\n",
      "sub-control01_T1w.nii.gz:   7%|▋         | 619k/8.77M [00:01<00:15, 540kB/s]:01<00:00, 26.5MB/s]\u001b[A\n",
      "\n",
      "\n",
      "\n",
      "sub-control01_task-nonmusic_run-4_bold.nii.gz:   0%|          | 120k/33.9M [00:00<01:47, 328kB/s] \u001b[A\u001b[A\u001b[A\u001b[A\n",
      "\n",
      "\n",
      "sub-control01_task-music_run-2_bold.nii.gz:  34%|███▎      | 11.4M/33.9M [00:01<00:01, 19.7MB/s]\u001b[A\u001b[A\u001b[A\n",
      "sub-control01_task-music_run-1_bold.nii.gz:  60%|█████▉    | 20.1M/33.8M [00:01<00:00, 29.2MB/s]\u001b[A\n",
      "\n",
      "sub-control01_task-music_run-3_bold.nii.gz:   1%|▏         | 468k/33.9M [00:01<01:11, 488kB/s]\u001b[A\u001b[A\n",
      "\n",
      "\n",
      "sub-control01_T1w.nii.gz:   8%|▊         | 687k/8.77M [00:01<00:16, 529kB/s]:01<00:01, 20.7MB/s]\u001b[A\u001b[A\u001b[A\n",
      "sub-control01_task-music_run-1_bold.nii.gz:  68%|██████▊   | 23.0M/33.8M [00:01<00:00, 29.5MB/s]\u001b[A\n",
      "\n",
      "\n",
      "\n",
      "sub-control01_task-nonmusic_run-4_bold.nii.gz:   1%|          | 182k/33.9M [00:00<01:44, 337kB/s]\u001b[A\u001b[A\u001b[A\u001b[A\n",
      "\n",
      "\n",
      "sub-control01_task-music_run-2_bold.nii.gz:  46%|████▌     | 15.6M/33.9M [00:01<00:00, 20.3MB/s]\u001b[A\u001b[A\u001b[A\n",
      "\n",
      "sub-control01_task-music_run-3_bold.nii.gz:   2%|▏         | 536k/33.9M [00:01<01:12, 484kB/s]\u001b[A\u001b[A\n",
      "sub-control01_T1w.nii.gz:   9%|▉         | 806k/8.77M [00:01<00:14, 581kB/s]:01<00:00, 29.0MB/s]\u001b[A\n",
      "\n",
      "\n",
      "\n",
      "sub-control01_task-nonmusic_run-4_bold.nii.gz:   1%|          | 249k/33.9M [00:00<01:29, 392kB/s]\u001b[A\u001b[A\u001b[A\u001b[A\n",
      "\n",
      "\n",
      "sub-control01_task-music_run-2_bold.nii.gz:  53%|█████▎    | 17.9M/33.9M [00:01<00:00, 21.1MB/s]\u001b[A\u001b[A\u001b[A\n",
      "\n",
      "sub-control01_task-music_run-3_bold.nii.gz:   2%|▏         | 621k/33.9M [00:01<01:04, 537kB/s]\u001b[A\u001b[A\n",
      "sub-control01_task-music_run-1_bold.nii.gz:  85%|████████▍ | 28.6M/33.8M [00:01<00:00, 28.4MB/s]\u001b[A\n",
      "\n",
      "\n",
      "sub-control01_task-music_run-2_bold.nii.gz:  60%|██████    | 20.4M/33.9M [00:01<00:00, 22.8MB/s]\u001b[A\u001b[A\u001b[A\n",
      "\n",
      "\n",
      "\n",
      "sub-control01_T1w.nii.gz:  10%|█         | 942k/8.77M [00:01<00:12, 641kB/s]00:00<01:31, 385kB/s]\u001b[A\u001b[A\u001b[A\u001b[A\n",
      "sub-control01_task-music_run-1_bold.nii.gz:  93%|█████████▎| 31.4M/33.8M [00:01<00:00, 27.8MB/s]\u001b[A\n",
      "\n",
      "sub-control01_task-music_run-3_bold.nii.gz:   2%|▏         | 689k/33.9M [00:01<01:06, 522kB/s]\u001b[A\u001b[A\n",
      "\n",
      "\n",
      "sub-control01_task-music_run-2_bold.nii.gz:  67%|██████▋   | 22.8M/33.9M [00:01<00:00, 23.4MB/s]\u001b[A\u001b[A\u001b[A\n",
      "sub-control01_T1w.nii.gz:  12%|█▏        | 1.02M/8.77M [00:02<00:11, 704kB/s]                   \u001b[A\n",
      "\n",
      "sub-control01_task-music_run-3_bold.nii.gz:   2%|▏         | 757k/33.9M [00:01<01:02, 555kB/s]\u001b[A\u001b[A\n",
      "\n",
      "\n",
      "\n",
      "sub-control01_task-nonmusic_run-4_bold.nii.gz:   1%|          | 368k/33.9M [00:00<01:24, 414kB/s]\u001b[A\u001b[A\u001b[A\u001b[A\n",
      "\n",
      "\n",
      "sub-control01_T1w.nii.gz:  13%|█▎        | 1.14M/8.77M [00:02<00:10, 786kB/s]01<00:00, 23.8MB/s]\u001b[A\u001b[A\u001b[A\n",
      "\n",
      "\n",
      "sub-control01_task-music_run-2_bold.nii.gz:  83%|████████▎ | 28.1M/33.9M [00:01<00:00, 25.4MB/s]\u001b[A\u001b[A\u001b[A\n",
      "\n",
      "sub-control01_task-music_run-3_bold.nii.gz:   3%|▎         | 876k/33.9M [00:01<00:50, 682kB/s]\u001b[A\u001b[A\n",
      "\n",
      "\n",
      "\n",
      "sub-control01_task-nonmusic_run-4_bold.nii.gz:   1%|▏         | 436k/33.9M [00:01<01:18, 448kB/s]\u001b[A\u001b[A\u001b[A\u001b[A\n",
      "\n",
      "\n",
      "sub-control01_T1w.nii.gz:  14%|█▍        | 1.24M/8.77M [00:02<00:10, 781kB/s]01<00:00, 26.8MB/s]\u001b[A\u001b[A\u001b[A\n",
      "\n",
      "sub-control01_task-music_run-3_bold.nii.gz:   3%|▎         | 961k/33.9M [00:01<00:53, 645kB/s]\u001b[A\u001b[A\n",
      "\n",
      "\n",
      "\n",
      "sub-control01_task-nonmusic_run-4_bold.nii.gz:   2%|▏         | 521k/33.9M [00:01<01:16, 460kB/s]\u001b[A\u001b[A\u001b[A\u001b[A\n",
      "\n",
      "\n",
      "                                                                                                \u001b[A\u001b[A\u001b[A\n",
      "sub-control01_task-nonmusic_run-5_events.tsv:   0%|          | 0.00/351 [00:00<?, ?B/s]\u001b[A\n",
      "sub-control01_T1w.nii.gz:  16%|█▌        | 1.37M/8.77M [00:02<00:08, 889kB/s]          \u001b[A\n",
      "\n",
      "sub-control01_task-music_run-3_bold.nii.gz:   3%|▎         | 1.07M/33.9M [00:02<00:44, 779kB/s]\u001b[A\u001b[A\n",
      "\n",
      "\n",
      "\n",
      "sub-control01_T1w.nii.gz:  17%|█▋        | 1.49M/8.77M [00:02<00:08, 940kB/s]0:01<01:04, 545kB/s]\u001b[A\u001b[A\u001b[A\u001b[A\n",
      "\n",
      "\n",
      "\n",
      "sub-control01_task-nonmusic_run-4_bold.nii.gz:   2%|▏         | 674k/33.9M [00:01<01:04, 542kB/s]\u001b[A\u001b[A\u001b[A\u001b[A\n",
      "\n",
      "sub-control01_T1w.nii.gz:  18%|█▊        | 1.62M/8.77M [00:02<00:07, 965kB/s]02<00:45, 749kB/s]\u001b[A\u001b[A\n",
      "sub-control01_task-nonmusic_run-4_events.tsv:   0%|          | 0.00/351 [00:00<?, ?B/s]\u001b[A\n",
      "                                                                                       \u001b[A\n",
      "\n",
      "sub-control01_task-music_run-3_bold.nii.gz:   4%|▍         | 1.30M/33.9M [00:02<00:39, 861kB/s]\u001b[A\u001b[A\n",
      "\n",
      "\n",
      "\n",
      "sub-control01_T1w.nii.gz:  20%|██        | 1.77M/8.77M [00:02<00:06, 1.11MB/s]:01<01:04, 540kB/s]\u001b[A\u001b[A\u001b[A\u001b[A\n",
      "sub-control01_task-nonmusic_run-5_bold.nii.gz:   0%|          | 0.00/33.9M [00:00<?, ?B/s]\u001b[A\n",
      "\n",
      "\n",
      "\n",
      "sub-control01_task-nonmusic_run-4_bold.nii.gz:   2%|▏         | 861k/33.9M [00:01<00:54, 635kB/s]\u001b[A\u001b[A\u001b[A\u001b[A\n",
      "\n",
      "sub-control01_T1w.nii.gz:  22%|██▏       | 1.90M/8.77M [00:02<00:06, 1.17MB/s]2<00:38, 872kB/s]\u001b[A\u001b[A\n",
      "sub-control01_T1w.nii.gz:  23%|██▎       | 2.05M/8.77M [00:02<00:05, 1.22MB/s]0:00<01:15, 472kB/s]\u001b[A\n",
      "\n",
      "sub-control01_task-music_run-3_bold.nii.gz:   5%|▍         | 1.60M/33.9M [00:02<00:32, 1.03MB/s]\u001b[A\u001b[A\n",
      "\n",
      "\n",
      "\n",
      "sub-control01_task-nonmusic_run-4_bold.nii.gz:   3%|▎         | 946k/33.9M [00:01<00:53, 645kB/s]\u001b[A\u001b[A\u001b[A\u001b[A\n",
      "sub-control01_task-nonmusic_run-5_bold.nii.gz:   1%|          | 204k/33.9M [00:00<00:44, 795kB/s] \u001b[A\n",
      "\n",
      "\n",
      "\n",
      "sub-control01_T1w.nii.gz:  25%|██▌       | 2.20M/8.77M [00:03<00:05, 1.20MB/s]0:02<00:46, 738kB/s]\u001b[A\u001b[A\u001b[A\u001b[A\n",
      "\n",
      "sub-control01_task-music_run-3_bold.nii.gz:   5%|▌         | 1.74M/33.9M [00:02<00:34, 983kB/s] \u001b[A\u001b[A\n",
      "sub-control01_T1w.nii.gz:  27%|██▋       | 2.38M/8.77M [00:03<00:04, 1.38MB/s]:00<00:27, 1.29MB/s]\u001b[A\n",
      "\n",
      "\n",
      "\n",
      "sub-control01_task-nonmusic_run-4_bold.nii.gz:   3%|▎         | 1.14M/33.9M [00:02<00:43, 788kB/s]\u001b[A\u001b[A\u001b[A\u001b[A\n",
      "\n",
      "sub-control01_task-music_run-3_bold.nii.gz:   6%|▌         | 1.89M/33.9M [00:02<00:30, 1.12MB/s]\u001b[A\u001b[A\n",
      "sub-control01_T1w.nii.gz:  29%|██▉       | 2.56M/8.77M [00:03<00:04, 1.50MB/s]:00<00:12, 2.74MB/s]\u001b[A\n",
      "\n",
      "sub-control01_task-music_run-3_bold.nii.gz:   6%|▌         | 2.05M/33.9M [00:02<00:26, 1.24MB/s]\u001b[A\u001b[A\n",
      "sub-control01_task-nonmusic_run-5_bold.nii.gz:   5%|▍         | 1.65M/33.9M [00:00<00:07, 4.39MB/s]\u001b[A\n",
      "\n",
      "\n",
      "\n",
      "sub-control01_T1w.nii.gz:  31%|███▏      | 2.75M/8.77M [00:03<00:04, 1.55MB/s]0:02<00:43, 788kB/s]\u001b[A\u001b[A\u001b[A\u001b[A\n",
      "sub-control01_task-nonmusic_run-5_bold.nii.gz:  10%|▉         | 3.29M/33.9M [00:00<00:03, 8.55MB/s]\u001b[A\n",
      "\n",
      "\n",
      "\n",
      "sub-control01_task-nonmusic_run-4_bold.nii.gz:   4%|▍         | 1.37M/33.9M [00:02<00:36, 941kB/s]\u001b[A\u001b[A\u001b[A\u001b[A\n",
      "\n",
      "sub-control01_task-music_run-3_bold.nii.gz:   7%|▋         | 2.22M/33.9M [00:03<00:27, 1.21MB/s]\u001b[A\u001b[A\n",
      "sub-control01_T1w.nii.gz:  34%|███▎      | 2.95M/8.77M [00:03<00:03, 1.55MB/s]0:00<00:01, 15.0MB/s]\u001b[A\n",
      "\n",
      "\n",
      "\n",
      "sub-control01_task-nonmusic_run-4_bold.nii.gz:   4%|▍         | 1.49M/33.9M [00:02<00:36, 927kB/s]\u001b[A\u001b[A\u001b[A\u001b[A\n",
      "\n",
      "sub-control01_T1w.nii.gz:  36%|███▌      | 3.18M/8.77M [00:03<00:03, 1.76MB/s]3<00:24, 1.33MB/s]\u001b[A\u001b[A\n",
      "sub-control01_task-nonmusic_run-5_bold.nii.gz:  27%|██▋       | 9.18M/33.9M [00:00<00:01, 17.9MB/s]\u001b[A\n",
      "\n",
      "sub-control01_task-music_run-3_bold.nii.gz:   8%|▊         | 2.58M/33.9M [00:03<00:21, 1.52MB/s]\u001b[A\u001b[A\n",
      "\n",
      "\n",
      "\n",
      "sub-control01_T1w.nii.gz:  39%|███▉      | 3.41M/8.77M [00:03<00:02, 1.93MB/s]0:02<00:36, 933kB/s]\u001b[A\u001b[A\u001b[A\u001b[A\n",
      "sub-control01_task-nonmusic_run-5_bold.nii.gz:  36%|███▋      | 12.3M/33.9M [00:01<00:01, 22.1MB/s]\u001b[A\n",
      "\n",
      "sub-control01_task-music_run-3_bold.nii.gz:   8%|▊         | 2.76M/33.9M [00:03<00:20, 1.61MB/s]\u001b[A\u001b[A\n",
      "\n",
      "\n",
      "\n",
      "sub-control01_T1w.nii.gz:  42%|████▏     | 3.64M/8.77M [00:03<00:02, 2.07MB/s]0:02<00:30, 1.12MB/s]\u001b[A\u001b[A\u001b[A\u001b[A\n",
      "sub-control01_task-nonmusic_run-5_bold.nii.gz:  45%|████▍     | 15.2M/33.9M [00:01<00:00, 24.3MB/s]\u001b[A\n",
      "\n",
      "sub-control01_task-music_run-3_bold.nii.gz:   9%|▉         | 2.98M/33.9M [00:03<00:20, 1.56MB/s]\u001b[A\u001b[A\n",
      "\n",
      "\n",
      "\n",
      "sub-control01_T1w.nii.gz:  44%|████▍     | 3.86M/8.77M [00:03<00:02, 2.07MB/s]0:02<00:29, 1.14MB/s]\u001b[A\u001b[A\u001b[A\u001b[A\n",
      "sub-control01_task-nonmusic_run-5_bold.nii.gz:  54%|█████▎    | 18.2M/33.9M [00:01<00:00, 26.3MB/s]\u001b[A\n",
      "\n",
      "sub-control01_T1w.nii.gz:  47%|████▋     | 4.11M/8.77M [00:04<00:02, 2.23MB/s]3<00:18, 1.73MB/s]\u001b[A\u001b[A\n",
      "\n",
      "\n",
      "\n",
      "sub-control01_task-nonmusic_run-4_bold.nii.gz:   6%|▌         | 2.07M/33.9M [00:03<00:28, 1.15MB/s]\u001b[A\u001b[A\u001b[A\u001b[A\n",
      "sub-control01_task-nonmusic_run-5_bold.nii.gz:  61%|██████    | 20.7M/33.9M [00:01<00:00, 26.2MB/s]\u001b[A\n",
      "\n",
      "sub-control01_task-music_run-3_bold.nii.gz:  10%|█         | 3.46M/33.9M [00:03<00:16, 1.95MB/s]\u001b[A\u001b[A\n",
      "\n",
      "\n",
      "\n",
      "sub-control01_task-nonmusic_run-4_bold.nii.gz:   7%|▋         | 2.25M/33.9M [00:03<00:24, 1.34MB/s]\u001b[A\u001b[A\u001b[A\u001b[A\n",
      "sub-control01_T1w.nii.gz:  50%|████▉     | 4.36M/8.77M [00:04<00:02, 2.14MB/s]0:01<00:00, 27.6MB/s]\u001b[A\n",
      "\n",
      "sub-control01_task-music_run-3_bold.nii.gz:  11%|█         | 3.70M/33.9M [00:03<00:15, 2.09MB/s]\u001b[A\u001b[A\n",
      "sub-control01_T1w.nii.gz:  53%|█████▎    | 4.69M/8.77M [00:04<00:01, 2.51MB/s]0:01<00:00, 26.9MB/s]\u001b[A\n",
      "\n",
      "\n",
      "\n",
      "sub-control01_task-nonmusic_run-4_bold.nii.gz:   7%|▋         | 2.45M/33.9M [00:03<00:23, 1.41MB/s]\u001b[A\u001b[A\u001b[A\u001b[A\n",
      "sub-control01_T1w.nii.gz:  57%|█████▋    | 4.97M/8.77M [00:04<00:01, 2.64MB/s]0:01<00:00, 29.0MB/s]\u001b[A\n",
      "\n",
      "sub-control01_task-music_run-3_bold.nii.gz:  12%|█▏        | 3.94M/33.9M [00:04<00:15, 1.97MB/s]\u001b[A\u001b[A\n",
      "\n",
      "\n",
      "\n",
      "sub-control01_task-nonmusic_run-4_bold.nii.gz:   8%|▊         | 2.62M/33.9M [00:03<00:23, 1.39MB/s]\u001b[A\u001b[A\u001b[A\u001b[A\n",
      "sub-control01_T1w.nii.gz:  60%|██████    | 5.29M/8.77M [00:04<00:01, 2.82MB/s]0:01<00:00, 28.9MB/s]\u001b[A\n",
      "\n",
      "sub-control01_task-music_run-3_bold.nii.gz:  12%|█▏        | 4.19M/33.9M [00:04<00:14, 2.13MB/s]\u001b[A\u001b[A\n",
      "\n",
      "\n",
      "\n",
      "sub-control01_task-nonmusic_run-4_bold.nii.gz:   8%|▊         | 2.82M/33.9M [00:03<00:20, 1.57MB/s]\u001b[A\u001b[A\u001b[A\u001b[A\n",
      "                                                                                                   \u001b[A\n",
      "\n",
      "sub-control01_T1w.nii.gz:  64%|██████▍   | 5.65M/8.77M [00:04<00:01, 3.01MB/s]4<00:12, 2.48MB/s]\u001b[A\u001b[A\n",
      "\n",
      "\n",
      "\n",
      "sub-control01_task-nonmusic_run-4_bold.nii.gz:   9%|▉         | 3.05M/33.9M [00:03<00:17, 1.80MB/s]\u001b[A\u001b[A\u001b[A\u001b[A\n",
      "\n",
      "sub-control01_T1w.nii.gz:  68%|██████▊   | 6.00M/8.77M [00:04<00:00, 2.93MB/s]4<00:11, 2.64MB/s]\u001b[A\u001b[A\n",
      "\n",
      "\n",
      "\n",
      "sub-control01_task-nonmusic_run-4_bold.nii.gz:  10%|▉         | 3.28M/33.9M [00:03<00:17, 1.81MB/s]\u001b[A\u001b[A\u001b[A\u001b[A\n",
      "\n",
      "sub-control01_T1w.nii.gz:  72%|███████▏  | 6.35M/8.77M [00:04<00:00, 3.12MB/s]4<00:10, 2.87MB/s]\u001b[A\u001b[A\n",
      "\n",
      "\n",
      "\n",
      "sub-control01_task-nonmusic_run-4_bold.nii.gz:  10%|█         | 3.48M/33.9M [00:03<00:18, 1.77MB/s]\u001b[A\u001b[A\u001b[A\u001b[A\n",
      "\n",
      "sub-control01_T1w.nii.gz:  77%|███████▋  | 6.80M/8.77M [00:04<00:00, 3.56MB/s]4<00:10, 2.95MB/s]\u001b[A\u001b[A\n",
      "\n",
      "\n",
      "\n",
      "sub-control01_T1w.nii.gz:  82%|████████▏ | 7.23M/8.77M [00:05<00:00, 3.82MB/s]0:03<00:16, 1.93MB/s]\u001b[A\u001b[A\u001b[A\u001b[A\n",
      "\n",
      "sub-control01_task-music_run-3_bold.nii.gz:  17%|█▋        | 5.77M/33.9M [00:04<00:10, 2.72MB/s]\u001b[A\u001b[A\n",
      "\n",
      "\n",
      "\n",
      "sub-control01_T1w.nii.gz:  87%|████████▋ | 7.68M/8.77M [00:05<00:00, 4.07MB/s]0:04<00:13, 2.31MB/s]\u001b[A\u001b[A\u001b[A\u001b[A\n",
      "\n",
      "sub-control01_task-music_run-3_bold.nii.gz:  18%|█▊        | 6.17M/33.9M [00:04<00:09, 3.11MB/s]\u001b[A\u001b[A\n",
      "\n",
      "\n",
      "\n",
      "sub-control01_task-nonmusic_run-4_bold.nii.gz:  13%|█▎        | 4.33M/33.9M [00:04<00:13, 2.32MB/s]\u001b[A\u001b[A\u001b[A\u001b[A\n",
      "\n",
      "sub-control01_T1w.nii.gz:  93%|█████████▎| 8.14M/8.77M [00:05<00:00, 4.20MB/s]4<00:08, 3.51MB/s]\u001b[A\u001b[A\n",
      "\n",
      "sub-control01_T1w.nii.gz:  98%|█████████▊| 8.62M/8.77M [00:05<00:00, 4.43MB/s]5<00:07, 3.65MB/s]\u001b[A\u001b[A\n",
      "\n",
      "\n",
      "\n",
      "                                                                              0:04<00:13, 2.28MB/s]\u001b[A\u001b[A\u001b[A\u001b[A\n",
      "\n",
      "sub-control01_task-music_run-3_bold.nii.gz:  22%|██▏       | 7.43M/33.9M [00:05<00:07, 3.91MB/s]\u001b[A\u001b[A\n",
      "\n",
      "\n",
      "\n",
      "sub-control01_task-nonmusic_run-4_bold.nii.gz:  14%|█▍        | 4.89M/33.9M [00:04<00:12, 2.50MB/s]\u001b[A\u001b[A\u001b[A\u001b[A\n",
      "\n",
      "\n",
      "\n",
      "sub-control01_task-nonmusic_run-4_bold.nii.gz:  16%|█▌        | 5.26M/33.9M [00:04<00:10, 2.86MB/s]\u001b[A\u001b[A\u001b[A\u001b[A\n",
      "\n",
      "sub-control01_task-music_run-3_bold.nii.gz:  23%|██▎       | 7.89M/33.9M [00:05<00:07, 3.70MB/s]\u001b[A\u001b[A\n",
      "\n",
      "\n",
      "\n",
      "sub-control01_task-nonmusic_run-4_bold.nii.gz:  17%|█▋        | 5.66M/33.9M [00:04<00:09, 3.01MB/s]\u001b[A\u001b[A\u001b[A\u001b[A\n",
      "\n",
      "sub-control01_task-music_run-3_bold.nii.gz:  25%|██▍       | 8.38M/33.9M [00:05<00:06, 4.04MB/s]\u001b[A\u001b[A\n",
      "\n",
      "sub-control01_task-music_run-3_bold.nii.gz:  26%|██▌       | 8.81M/33.9M [00:05<00:06, 4.16MB/s]\u001b[A\u001b[A\n",
      "\n",
      "\n",
      "\n",
      "sub-control01_task-nonmusic_run-4_bold.nii.gz:  18%|█▊        | 5.99M/33.9M [00:04<00:10, 2.91MB/s]\u001b[A\u001b[A\u001b[A\u001b[A\n",
      "\n",
      "sub-control01_task-music_run-3_bold.nii.gz:  28%|██▊       | 9.42M/33.9M [00:05<00:05, 4.80MB/s]\u001b[A\u001b[A\n",
      "\n",
      "\n",
      "\n",
      "sub-control01_task-nonmusic_run-4_bold.nii.gz:  19%|█▉        | 6.35M/33.9M [00:04<00:09, 3.15MB/s]\u001b[A\u001b[A\u001b[A\u001b[A\n",
      "\n",
      "sub-control01_task-music_run-3_bold.nii.gz:  30%|██▉       | 10.1M/33.9M [00:05<00:04, 5.37MB/s]\u001b[A\u001b[A\n",
      "\n",
      "\n",
      "\n",
      "sub-control01_task-nonmusic_run-4_bold.nii.gz:  20%|█▉        | 6.77M/33.9M [00:04<00:08, 3.48MB/s]\u001b[A\u001b[A\u001b[A\u001b[A\n",
      "\n",
      "sub-control01_task-music_run-3_bold.nii.gz:  31%|███▏      | 10.6M/33.9M [00:05<00:04, 5.51MB/s]\u001b[A\u001b[A\n",
      "\n",
      "\n",
      "\n",
      "sub-control01_task-nonmusic_run-4_bold.nii.gz:  21%|██▏       | 7.23M/33.9M [00:05<00:07, 3.87MB/s]\u001b[A\u001b[A\u001b[A\u001b[A\n",
      "\n",
      "sub-control01_task-music_run-3_bold.nii.gz:  33%|███▎      | 11.3M/33.9M [00:05<00:04, 5.42MB/s]\u001b[A\u001b[A\n",
      "\n",
      "\n",
      "\n",
      "sub-control01_task-nonmusic_run-4_bold.nii.gz:  23%|██▎       | 7.75M/33.9M [00:05<00:06, 4.06MB/s]\u001b[A\u001b[A\u001b[A\u001b[A\n",
      "\n",
      "sub-control01_task-music_run-3_bold.nii.gz:  35%|███▌      | 11.9M/33.9M [00:05<00:04, 5.69MB/s]\u001b[A\u001b[A\n",
      "\n",
      "\n",
      "\n",
      "sub-control01_task-nonmusic_run-4_bold.nii.gz:  24%|██▍       | 8.20M/33.9M [00:05<00:06, 3.91MB/s]\u001b[A\u001b[A\u001b[A\u001b[A\n",
      "\n",
      "sub-control01_task-music_run-3_bold.nii.gz:  37%|███▋      | 12.6M/33.9M [00:06<00:03, 5.91MB/s]\u001b[A\u001b[A\n",
      "\n",
      "\n",
      "\n",
      "sub-control01_task-nonmusic_run-4_bold.nii.gz:  26%|██▌       | 8.66M/33.9M [00:05<00:06, 4.12MB/s]\u001b[A\u001b[A\u001b[A\u001b[A\n",
      "\n",
      "sub-control01_task-music_run-3_bold.nii.gz:  40%|███▉      | 13.4M/33.9M [00:06<00:03, 6.70MB/s]\u001b[A\u001b[A\n",
      "\n",
      "\n",
      "\n",
      "sub-control01_task-nonmusic_run-4_bold.nii.gz:  27%|██▋       | 9.19M/33.9M [00:05<00:05, 4.51MB/s]\u001b[A\u001b[A\u001b[A\u001b[A\n",
      "\n",
      "sub-control01_task-music_run-3_bold.nii.gz:  42%|████▏     | 14.2M/33.9M [00:06<00:02, 7.37MB/s]\u001b[A\u001b[A\n",
      "\n",
      "\n",
      "\n",
      "sub-control01_task-nonmusic_run-4_bold.nii.gz:  29%|██▊       | 9.69M/33.9M [00:05<00:05, 4.71MB/s]\u001b[A\u001b[A\u001b[A\u001b[A\n",
      "\n",
      "sub-control01_task-music_run-3_bold.nii.gz:  45%|████▍     | 15.1M/33.9M [00:06<00:02, 7.78MB/s]\u001b[A\u001b[A\n",
      "\n",
      "\n",
      "\n",
      "sub-control01_task-nonmusic_run-4_bold.nii.gz:  31%|███       | 10.4M/33.9M [00:05<00:04, 5.40MB/s]\u001b[A\u001b[A\u001b[A\u001b[A\n",
      "\n",
      "sub-control01_task-music_run-3_bold.nii.gz:  47%|████▋     | 16.0M/33.9M [00:06<00:02, 8.24MB/s]\u001b[A\u001b[A\n",
      "\n",
      "\n",
      "\n",
      "sub-control01_task-nonmusic_run-4_bold.nii.gz:  33%|███▎      | 11.1M/33.9M [00:05<00:04, 5.96MB/s]\u001b[A\u001b[A\u001b[A\u001b[A\n",
      "\n",
      "sub-control01_task-music_run-3_bold.nii.gz:  50%|████▉     | 16.9M/33.9M [00:06<00:02, 8.61MB/s]\u001b[A\u001b[A\n",
      "\n",
      "\n",
      "\n",
      "sub-control01_task-nonmusic_run-4_bold.nii.gz:  35%|███▍      | 11.7M/33.9M [00:05<00:03, 6.12MB/s]\u001b[A\u001b[A\u001b[A\u001b[A\n",
      "\n",
      "sub-control01_task-music_run-3_bold.nii.gz:  53%|█████▎    | 17.8M/33.9M [00:06<00:01, 8.81MB/s]\u001b[A\u001b[A\n",
      "\n",
      "\n",
      "\n",
      "sub-control01_task-nonmusic_run-4_bold.nii.gz:  36%|███▋      | 12.4M/33.9M [00:06<00:03, 5.83MB/s]\u001b[A\u001b[A\u001b[A\u001b[A\n",
      "\n",
      "sub-control01_task-music_run-3_bold.nii.gz:  55%|█████▌    | 18.7M/33.9M [00:06<00:01, 8.81MB/s]\u001b[A\u001b[A\n",
      "\n",
      "\n",
      "\n",
      "sub-control01_task-nonmusic_run-4_bold.nii.gz:  39%|███▊      | 13.0M/33.9M [00:06<00:03, 6.14MB/s]\u001b[A\u001b[A\u001b[A\u001b[A\n",
      "\n",
      "sub-control01_task-music_run-3_bold.nii.gz:  58%|█████▊    | 19.7M/33.9M [00:06<00:01, 9.00MB/s]\u001b[A\u001b[A\n",
      "\n",
      "\n",
      "\n",
      "sub-control01_task-nonmusic_run-4_bold.nii.gz:  41%|████      | 13.8M/33.9M [00:06<00:03, 6.72MB/s]\u001b[A\u001b[A\u001b[A\u001b[A\n",
      "\n",
      "sub-control01_task-music_run-3_bold.nii.gz:  62%|██████▏   | 20.9M/33.9M [00:07<00:01, 9.92MB/s]\u001b[A\u001b[A\n",
      "\n",
      "\n",
      "\n",
      "sub-control01_task-nonmusic_run-4_bold.nii.gz:  43%|████▎     | 14.7M/33.9M [00:06<00:02, 7.26MB/s]\u001b[A\u001b[A\u001b[A\u001b[A\n",
      "\n",
      "sub-control01_task-music_run-3_bold.nii.gz:  66%|██████▌   | 22.2M/33.9M [00:07<00:01, 11.0MB/s]\u001b[A\u001b[A\n",
      "\n",
      "\n",
      "\n",
      "sub-control01_task-nonmusic_run-4_bold.nii.gz:  46%|████▌     | 15.6M/33.9M [00:06<00:02, 7.94MB/s]\u001b[A\u001b[A\u001b[A\u001b[A\n",
      "\n",
      "sub-control01_task-music_run-3_bold.nii.gz:  70%|██████▉   | 23.6M/33.9M [00:07<00:00, 12.1MB/s]\u001b[A\u001b[A\n",
      "\n",
      "\n",
      "\n",
      "sub-control01_task-nonmusic_run-4_bold.nii.gz:  49%|████▉     | 16.6M/33.9M [00:06<00:02, 8.68MB/s]\u001b[A\u001b[A\u001b[A\u001b[A\n",
      "\n",
      "sub-control01_task-music_run-3_bold.nii.gz:  73%|███████▎  | 24.9M/33.9M [00:07<00:00, 12.4MB/s]\u001b[A\u001b[A\n",
      "\n",
      "\n",
      "\n",
      "sub-control01_task-nonmusic_run-4_bold.nii.gz:  52%|█████▏    | 17.5M/33.9M [00:06<00:01, 9.02MB/s]\u001b[A\u001b[A\u001b[A\u001b[A\n",
      "\n",
      "sub-control01_task-music_run-3_bold.nii.gz:  78%|███████▊  | 26.3M/33.9M [00:07<00:00, 13.3MB/s]\u001b[A\u001b[A\n",
      "\n",
      "\n",
      "\n",
      "sub-control01_task-nonmusic_run-4_bold.nii.gz:  55%|█████▍    | 18.5M/33.9M [00:06<00:01, 8.73MB/s]\u001b[A\u001b[A\u001b[A\u001b[A\n",
      "\n",
      "sub-control01_task-music_run-3_bold.nii.gz:  82%|████████▏ | 27.6M/33.9M [00:07<00:00, 13.3MB/s]\u001b[A\u001b[A\n",
      "\n",
      "\n",
      "\n",
      "sub-control01_task-nonmusic_run-4_bold.nii.gz:  58%|█████▊    | 19.5M/33.9M [00:06<00:01, 9.14MB/s]\u001b[A\u001b[A\u001b[A\u001b[A\n",
      "\n",
      "sub-control01_task-music_run-3_bold.nii.gz:  86%|████████▌ | 29.2M/33.9M [00:07<00:00, 14.2MB/s]\u001b[A\u001b[A\n",
      "\n",
      "\n",
      "\n",
      "sub-control01_task-nonmusic_run-4_bold.nii.gz:  61%|██████    | 20.5M/33.9M [00:07<00:01, 9.60MB/s]\u001b[A\u001b[A\u001b[A\u001b[A\n",
      "\n",
      "sub-control01_task-music_run-3_bold.nii.gz:  91%|█████████ | 30.8M/33.9M [00:07<00:00, 14.8MB/s]\u001b[A\u001b[A\n",
      "\n",
      "\n",
      "\n",
      "sub-control01_task-nonmusic_run-4_bold.nii.gz:  64%|██████▍   | 21.7M/33.9M [00:07<00:01, 10.3MB/s]\u001b[A\u001b[A\u001b[A\u001b[A\n",
      "\n",
      "sub-control01_task-music_run-3_bold.nii.gz:  96%|█████████▌| 32.3M/33.9M [00:07<00:00, 15.4MB/s]\u001b[A\u001b[A\n",
      "\n",
      "\n",
      "\n",
      "sub-control01_task-nonmusic_run-4_bold.nii.gz:  68%|██████▊   | 23.0M/33.9M [00:07<00:01, 11.3MB/s]\u001b[A\u001b[A\u001b[A\u001b[A\n",
      "\n",
      "                                                                                                \u001b[A\u001b[A\n",
      "\n",
      "\n",
      "\n",
      "sub-control01_task-nonmusic_run-4_bold.nii.gz:  72%|███████▏  | 24.3M/33.9M [00:07<00:00, 12.1MB/s]\u001b[A\u001b[A\u001b[A\u001b[A\n",
      "\n",
      "\n",
      "\n",
      "sub-control01_task-nonmusic_run-4_bold.nii.gz:  76%|███████▌  | 25.8M/33.9M [00:07<00:00, 13.1MB/s]\u001b[A\u001b[A\u001b[A\u001b[A\n",
      "\n",
      "\n",
      "\n",
      "sub-control01_task-nonmusic_run-4_bold.nii.gz:  81%|████████  | 27.4M/33.9M [00:07<00:00, 14.1MB/s]\u001b[A\u001b[A\u001b[A\u001b[A\n",
      "\n",
      "\n",
      "\n",
      "sub-control01_task-nonmusic_run-4_bold.nii.gz:  85%|████████▌ | 28.9M/33.9M [00:07<00:00, 13.8MB/s]\u001b[A\u001b[A\u001b[A\u001b[A\n",
      "\n",
      "\n",
      "\n",
      "sub-control01_task-nonmusic_run-4_bold.nii.gz:  90%|████████▉ | 30.4M/33.9M [00:07<00:00, 14.2MB/s]\u001b[A\u001b[A\u001b[A\u001b[A\n",
      "\n",
      "\n",
      "\n",
      "sub-control01_task-nonmusic_run-4_bold.nii.gz:  95%|█████████▍| 32.1M/33.9M [00:07<00:00, 15.2MB/s]\u001b[A\u001b[A\u001b[A\u001b[A\n",
      "\n",
      "\n",
      "\n",
      "                                                                                                   \u001b[A\u001b[A\u001b[A\u001b[A"
     ]
    },
    {
     "name": "stdout",
     "output_type": "stream",
     "text": [
      "✅ Finished downloading ds000171.\n",
      " \n",
      "🧠 Please enjoy your brains.\n",
      " \n"
     ]
    }
   ],
   "source": [
    "dataset_id = 'ds000171'\n",
    "subject = 'control01' \n",
    "\n",
    "sample_path = \"/home/jovyan/Data/dataset\"\n",
    "mkdir_no_exist(sample_path)\n",
    "bids_root = op.join(sample_path, dataset_id)\n",
    "deriv_root = op.join(bids_root, 'derivatives')\n",
    "preproc_root = op.join(bids_root, 'derivatives','preprocessed_data')\n",
    "\n",
    "mkdir_no_exist(bids_root)\n",
    "\n",
    "subject_dir = 'sub-{}'.format(subject)\n",
    "\n",
    "###################\n",
    "# Openneuro download.\n",
    "###################\n",
    "subprocess.run([\"openneuro-py\", \"download\", \"--dataset\", dataset_id, # Openneuro has for each dataset a unique identifier\n",
    "                \"--target-dir\", bids_root,  # The path where we want to save our data. You should save your data under /home/jovyan/Data/[your dataset ID] to be 100% fool-proof\n",
    "                \"--include\", op.join(subject_dir, '*'),# We are asking to get all files within the subject_dir/anat folder by using the wildcard *\n",
    "               ], check=True)\n",
    "\n",
    "###################\n",
    "# Create folders relevant for preprocessing.\n",
    "###################\n",
    "mkdir_no_exist(op.join(bids_root, 'derivatives'))\n",
    "preproc_root = op.join(bids_root, 'derivatives','preprocessed_data')\n",
    "mkdir_no_exist(preproc_root)\n",
    "mkdir_no_exist(op.join(preproc_root, subject_dir))\n",
    "mkdir_no_exist(op.join(preproc_root, subject_dir, 'anat'))\n",
    "mkdir_no_exist(op.join(preproc_root, subject_dir, 'func'))\n",
    "mkdir_no_exist(op.join(preproc_root, subject_dir, 'fmap'))"
   ]
  },
  {
   "cell_type": "code",
   "execution_count": 5,
   "id": "dd1abcba-0623-4666-9cb4-1293026e1d8e",
   "metadata": {},
   "outputs": [
    {
     "name": "stdout",
     "output_type": "stream",
     "text": [
      "|ds000171/\n",
      "|--- CHANGES\n",
      "|--- README\n",
      "|--- dataset_description.json\n",
      "|--- participants.tsv\n",
      "|--- derivatives/\n",
      "|------ preprocessed_data/\n",
      "|--------- sub-control01/\n",
      "|------------ anat/\n",
      "|------------ fmap/\n",
      "|------------ func/\n",
      "|--- sub-control01/\n",
      "|------ anat/\n",
      "|--------- sub-control01_T1w.nii.gz\n",
      "|------ func/\n",
      "|--------- sub-control01_task-music_run-1_bold.nii.gz\n",
      "|--------- sub-control01_task-music_run-1_events.tsv\n",
      "|--------- sub-control01_task-music_run-2_bold.nii.gz\n",
      "|--------- sub-control01_task-music_run-2_events.tsv\n",
      "|--------- sub-control01_task-music_run-3_bold.nii.gz\n",
      "|--------- sub-control01_task-music_run-3_events.tsv\n",
      "|--------- sub-control01_task-nonmusic_run-4_bold.nii.gz\n",
      "|--------- sub-control01_task-nonmusic_run-4_events.tsv\n",
      "|--------- sub-control01_task-nonmusic_run-5_bold.nii.gz\n",
      "|--------- sub-control01_task-nonmusic_run-5_events.tsv\n"
     ]
    }
   ],
   "source": [
    "print_dir_tree(bids_root, max_depth=5)"
   ]
  },
  {
   "cell_type": "markdown",
   "id": "0bb0a48e-f8fe-4a39-bc84-55b8873b9e04",
   "metadata": {},
   "source": [
    "## 1. Anatomical preprocessing"
   ]
  },
  {
   "cell_type": "code",
   "execution_count": 6,
   "id": "0c3ea849-edc8-44cc-89b1-e29c23075583",
   "metadata": {},
   "outputs": [
    {
     "name": "stderr",
     "output_type": "stream",
     "text": [
      "\n",
      "(ipykernel_launcher.py:438): Gdk-WARNING **: 11:52:19.089: gdkdrawable-x11.c:952 drawable is not a pixmap or window\n"
     ]
    }
   ],
   "source": [
    "fsleyesDisplay.resetOverlays()\n",
    "fsleyesDisplay.load(op.join(bids_root,subject_dir,'anat', 'sub-control01_T1w.nii.gz'))"
   ]
  },
  {
   "cell_type": "markdown",
   "id": "b86db318-31c6-4446-86c1-0cf2c5171e5c",
   "metadata": {},
   "source": [
    "### 1.1 Remove the skull"
   ]
  },
  {
   "cell_type": "code",
   "execution_count": 7,
   "id": "29127889-6e4e-4080-a401-863e8a17c5b7",
   "metadata": {},
   "outputs": [],
   "source": [
    "def get_skull_stripped_anatomical(bids_root, preproc_root, subject_id, robust=False):\n",
    "    \"\"\"\n",
    "    Function to perform skull-stripping (removing the skull around the brain).\n",
    "    This is a simple wrapper around the brain extraction tool (BET) in FSL's suite\n",
    "    It assumes data to be in the BIDS format (which we will cover in the following weeks).\n",
    "    The method also saves the brain mask which was used to extract the brain.\n",
    "\n",
    "    The brain extraction is conducted only on the T1w of the participant.\n",
    "\n",
    "    Parameters\n",
    "    ----------\n",
    "    bids_root: string\n",
    "        The root of the BIDS directory\n",
    "    preproc_root: string\n",
    "        The root of the preprocessed data, where the result of the brain extraction will be saved.\n",
    "    subject_id: string\n",
    "        Subject ID, the subject on which brain extraction should be conducted.\n",
    "    robust: bool\n",
    "        Whether to conduct robust center estimation with BET or not. Default is False.\n",
    "    \"\"\"\n",
    "    subject = 'sub-{}'.format(subject_id)\n",
    "    anatomical_path = op.join(bids_root, subject, 'anat', 'sub-{}_T1w.nii.gz'.format(subject_id))\n",
    "    betted_brain_path = op.join(preproc_root, subject, 'anat', 'sub-{}_T1w'.format(subject_id))\n",
    "    os.system('bet {} {} -m {}'.format(anatomical_path, betted_brain_path, '-R' if robust else ''))\n",
    "    print(\"Done with BET.\")\n",
    "\n",
    "resulting_mask_path = op.join(preproc_root, 'sub-control01', 'anat', 'sub-control01_T1w_mask')"
   ]
  },
  {
   "cell_type": "code",
   "execution_count": 8,
   "id": "cbad09cc-6a05-4ef5-b6af-2c4163d1dea7",
   "metadata": {},
   "outputs": [
    {
     "name": "stdout",
     "output_type": "stream",
     "text": [
      "Done with BET.\n"
     ]
    }
   ],
   "source": [
    "# improve the fit\n",
    "get_skull_stripped_anatomical(bids_root, preproc_root, \"control01\", robust=True)\n",
    "\n",
    "fsleyesDisplay.resetOverlays()\n",
    "fsleyesDisplay.load(op.join(bids_root, subject_dir, 'anat', 'sub-control01_T1w.nii.gz'))\n",
    "fsleyesDisplay.load(resulting_mask_path)"
   ]
  },
  {
   "cell_type": "markdown",
   "id": "49628d9c-30f6-414e-83af-f24cacd1b2ac",
   "metadata": {},
   "source": [
    "#### * After improving the fit, do mannual corrections if needed. Then apply the mask to T1 through fslmaths."
   ]
  },
  {
   "cell_type": "code",
   "execution_count": 9,
   "id": "19c9df16-ef07-46fd-9cf2-5ab129cf2e40",
   "metadata": {},
   "outputs": [],
   "source": [
    "def apply_fsl_math_approach(img_path, mask_path, masked_img_path):\n",
    "    \"\"\"Apply resulted mask to T1\"\"\"\n",
    "    os.system('fslmaths {} -mas {} {}'.format(img_path, mask_path, masked_img_path))\n",
    "    \n",
    "\n",
    "anatomical_path = op.join(bids_root, subject_dir, 'anat', 'sub-control01_T1w.nii.gz') # The original brain\n",
    "betted_brain_path = op.join(preproc_root, subject_dir, 'anat', 'sub-control01_T1w.nii.gz') # The brain without skull is in the derivatives folder\n",
    "resulting_mask_path = op.join(preproc_root, subject_dir, 'anat', 'sub-control01_T1w_mask.nii.gz') # The mask to use\n",
    "\n",
    "apply_fsl_math_approach(anatomical_path, resulting_mask_path, betted_brain_path)"
   ]
  },
  {
   "cell_type": "code",
   "execution_count": 10,
   "id": "1c33b662-c45b-4f83-84e6-d71d17183118",
   "metadata": {},
   "outputs": [],
   "source": [
    "fsleyesDisplay.resetOverlays()\n",
    "fsleyesDisplay.load(betted_brain_path)"
   ]
  },
  {
   "cell_type": "markdown",
   "id": "d25a84e0-91d8-4393-a784-c255cb269312",
   "metadata": {},
   "source": [
    "### 1.2 Tissue segmentation"
   ]
  },
  {
   "cell_type": "code",
   "execution_count": 11,
   "id": "52e558ed-3fd6-42b9-8e7e-52c1b1272a02",
   "metadata": {},
   "outputs": [
    {
     "data": {
      "text/plain": [
       "{}"
      ]
     },
     "execution_count": 11,
     "metadata": {},
     "output_type": "execute_result"
    }
   ],
   "source": [
    "bet_path = op.join(preproc_root, 'sub-control01', 'anat', 'sub-control01_T1w')\n",
    "\n",
    "fast_target = bet_path \n",
    "[os.remove(f) for f in glob.glob(op.join(preproc_root, 'sub-control01', 'anat', '*fast*'))] # Just to clean the directory in between runs of the cell\n",
    "segmentation_path = op.join(preproc_root, 'sub-control01', 'anat', 'sub-control01_T1w_fast')\n",
    "fast(imgs=[fast_target], out=segmentation_path, n_classes=3)"
   ]
  },
  {
   "cell_type": "code",
   "execution_count": 12,
   "id": "6bafc796-9bb6-437e-a9f5-9d07a7a7f454",
   "metadata": {},
   "outputs": [],
   "source": [
    "#check the segmentation result with RGB\n",
    "fsleyesDisplay.resetOverlays()\n",
    "fsleyesDisplay.load(bet_path)\n",
    "fsleyesDisplay.load(glob.glob(op.join(preproc_root, 'sub-control01', 'anat','*pve_0*'))[0])\n",
    "fsleyesDisplay.load(glob.glob(op.join(preproc_root, 'sub-control01', 'anat','*pve_1*'))[0])\n",
    "fsleyesDisplay.load(glob.glob(op.join(preproc_root, 'sub-control01', 'anat','*pve_2*'))[0])\n",
    "fsleyesDisplay.displayCtx.getOpts(fsleyesDisplay.overlayList[1]).cmap = 'Red'\n",
    "fsleyesDisplay.displayCtx.getOpts(fsleyesDisplay.overlayList[2]).cmap = 'Green'\n",
    "fsleyesDisplay.displayCtx.getOpts(fsleyesDisplay.overlayList[3]).cmap = 'Blue'"
   ]
  },
  {
   "cell_type": "markdown",
   "id": "374fde10-1b5e-4a93-95c2-8f7559591c91",
   "metadata": {},
   "source": [
    "### 1.3 Coregistration\n",
    "Aim: to make participant's brain match with a reference brain so that comparison across participants become feasible.\n",
    "\n",
    "Here we use linear normalization by flirt()."
   ]
  },
  {
   "cell_type": "code",
   "execution_count": 13,
   "id": "9dacce37-af47-4140-83cc-0561143a2aaa",
   "metadata": {},
   "outputs": [
    {
     "name": "stdout",
     "output_type": "stream",
     "text": [
      "\n",
      "Final result: \n",
      "0.003348 0.005721 -1.116064 204.794610 \n",
      "-0.933350 0.500887 0.005750 178.784833 \n",
      "0.501418 1.048657 -0.003251 -149.700516 \n",
      "0.000000 0.000000 0.000000 1.000000 \n",
      "\n"
     ]
    },
    {
     "data": {
      "text/plain": [
       "{}"
      ]
     },
     "execution_count": 13,
     "metadata": {},
     "output_type": "execute_result"
    }
   ],
   "source": [
    "from fsl.wrappers import flirt\n",
    "\n",
    "subject_id = 'control01'\n",
    "subject_anatomical = op.join(preproc_root, subject_dir, 'anat', 'sub-control01_T1w')\n",
    "mni_template = op.expandvars(op.join('$FSLDIR', 'data', 'standard', 'MNI152_T1_1mm_brain'))\n",
    "\n",
    "target = subject_anatomical \n",
    "reference = mni_template \n",
    "result = op.join(preproc_root, subject_dir, 'anat', 'sub-{}_T1w_mni'.format(subject_id))\n",
    "flirt(target, reference, out=result)"
   ]
  },
  {
   "cell_type": "code",
   "execution_count": 20,
   "id": "3d0ea81a-f77b-4506-915c-f8a88bb494fa",
   "metadata": {},
   "outputs": [],
   "source": [
    "#Visualize the result\n",
    "fsleyesDisplay.resetOverlays()\n",
    "fsleyesDisplay.load(reference) \n",
    "fsleyesDisplay.load(result)"
   ]
  },
  {
   "cell_type": "markdown",
   "id": "268637ab-a74c-4bb8-8422-3e0e368cfaa8",
   "metadata": {},
   "source": [
    "## 2. Standardize T2 files"
   ]
  },
  {
   "cell_type": "markdown",
   "id": "1348ec6f-ce57-4d31-b2eb-61769e0e187c",
   "metadata": {},
   "source": [
    "#### Before standardization, extract brain tissue."
   ]
  },
  {
   "cell_type": "code",
   "execution_count": null,
   "id": "368a2518-c7bd-43b5-bb15-bb7c446c74df",
   "metadata": {},
   "outputs": [],
   "source": [
    "def get_skull_stripped_func(bids_root, preproc_root, subject_id, run = 1, robust=False):\n",
    "    \"\"\"\n",
    "    Function to perform skull-stripping (removing the skull around the brain).\n",
    "    This is a simple wrapper around the brain extraction tool (BET) in FSL's suite\n",
    "    It assumes data to be in the BIDS format (which we will cover in the following weeks).\n",
    "    The method also saves the brain mask which was used to extract the brain.\n",
    "\n",
    "    The brain extraction is conducted only on the T2w of the participant.\n",
    "\n",
    "    Parameters\n",
    "    ----------\n",
    "    bids_root: string\n",
    "        The root of the BIDS directory\n",
    "    preproc_root: string\n",
    "        The root of the preprocessed data, where the result of the brain extraction will be saved.\n",
    "    subject_id: string\n",
    "        Subject ID, the subject on which brain extraction should be conducted.\n",
    "    robust: bool\n",
    "        Whether to conduct robust center estimation with BET or not. Default is False.\n",
    "    \"\"\"\n",
    "    subject = 'sub-{}'.format(subject_id)\n",
    "    func_path = op.join(bids_root, subject, 'func', f'sub-{subject_id}_task-music_run-{run}_bold.nii.gz')\n",
    "    betted_brain_path = op.join(preproc_root, subject, 'func', f'sub-{subject_id}_task-music_run-{run}_bold.nii.gz')\n",
    "    os.system('bet {} {} -m {}'.format(func_path, betted_brain_path, '-R' if robust else ''))\n",
    "    print(\"Done with BET.\")\n"
   ]
  },
  {
   "cell_type": "code",
   "execution_count": 26,
   "id": "d8c205cb-c383-412e-b0c6-e2447f7f4130",
   "metadata": {},
   "outputs": [
    {
     "name": "stderr",
     "output_type": "stream",
     "text": [
      "Warning: An input intended to be a single 3D volume has multiple timepoints. Input will be truncated to first volume, but this functionality is deprecated and will be removed in a future release.\n",
      "Warning: An input intended to be a single 3D volume has multiple timepoints. Input will be truncated to first volume, but this functionality is deprecated and will be removed in a future release.\n"
     ]
    },
    {
     "name": "stdout",
     "output_type": "stream",
     "text": [
      "Done with BET.\n"
     ]
    },
    {
     "name": "stderr",
     "output_type": "stream",
     "text": [
      "Warning: An input intended to be a single 3D volume has multiple timepoints. Input will be truncated to first volume, but this functionality is deprecated and will be removed in a future release.\n",
      "Warning: An input intended to be a single 3D volume has multiple timepoints. Input will be truncated to first volume, but this functionality is deprecated and will be removed in a future release.\n"
     ]
    },
    {
     "name": "stdout",
     "output_type": "stream",
     "text": [
      "Done with BET.\n"
     ]
    },
    {
     "name": "stderr",
     "output_type": "stream",
     "text": [
      "Warning: An input intended to be a single 3D volume has multiple timepoints. Input will be truncated to first volume, but this functionality is deprecated and will be removed in a future release.\n",
      "Warning: An input intended to be a single 3D volume has multiple timepoints. Input will be truncated to first volume, but this functionality is deprecated and will be removed in a future release.\n"
     ]
    },
    {
     "name": "stdout",
     "output_type": "stream",
     "text": [
      "Done with BET.\n"
     ]
    }
   ],
   "source": [
    "for i in range(3):\n",
    "    run = i+1\n",
    "    get_skull_stripped_func(bids_root, preproc_root,\"control01\", run=run, robust=True)\n",
    "\n",
    "    func_path = op.join(bids_root, subject_dir, 'func', f'sub-control01_task-music_run-{run}_bold.nii.gz') # The original brain\n",
    "    betted_brain_path = op.join(preproc_root, subject_dir, 'func', f'sub-control01_task-music_run-{run}_bold.nii.gz') # The brain without skull is in the derivatives folder\n",
    "    resulting_mask_path = op.join(preproc_root, 'sub-control01', 'func', f'sub-control01_task-music_run-{run}_bold_mask.nii.gz')\n",
    "    \n",
    "    apply_fsl_math_approach(func_path, resulting_mask_path, betted_brain_path)"
   ]
  },
  {
   "cell_type": "markdown",
   "id": "a8799be5-6a09-47ea-ae00-d8744257e389",
   "metadata": {},
   "source": [
    "#### Verify possible problematic volumes"
   ]
  },
  {
   "cell_type": "code",
   "execution_count": 33,
   "id": "8505f48a-df34-400d-b3b5-4ac77a686446",
   "metadata": {},
   "outputs": [
    {
     "data": {
      "text/plain": [
       "Text(0, 0.5, 'Mean voxel intensity')"
      ]
     },
     "execution_count": 33,
     "metadata": {},
     "output_type": "execute_result"
    },
    {
     "data": {
      "image/png": "[encoded data removed]",
      "text/plain": [
       "<Figure size 640x480 with 1 Axes>"
      ]
     },
     "metadata": {},
     "output_type": "display_data"
    }
   ],
   "source": [
    "# Visualize mean voxel intensity of bold files\n",
    "import matplotlib.pyplot as plt\n",
    "\n",
    "for file in os.listdir(op.join(preproc_root, 'sub-control01','func')):\n",
    "    if '_task-music_run' in file and file.endswith('_bold.nii.gz'):\n",
    "        filename = op.join(preproc_root, 'sub-control01','func',file)\n",
    "\n",
    "        mean_intensity = nib.load(filename).get_fdata().mean(axis=(0,1,2))\n",
    "        \n",
    "        plt.plot(mean_intensity,label = file.replace('_bold.nii.gz',''))\n",
    "\n",
    "plt.legend()\n",
    "plt.xlabel('Time (volume)')\n",
    "plt.ylabel('Mean voxel intensity')"
   ]
  },
  {
   "cell_type": "markdown",
   "id": "e23129e2-4e8e-4343-a426-9672f62f8b4f",
   "metadata": {},
   "source": [
    "Since we did not find any obvious problematic volumes according to the above figure, we skipped removing the problematic volumes.\n",
    "\n",
    "#### Standardize and concact all runs of interest."
   ]
  },
  {
   "cell_type": "code",
   "execution_count": 34,
   "id": "f29fb0c2-f858-461f-9b27-0454d5d64a0f",
   "metadata": {},
   "outputs": [],
   "source": [
    "import nibabel as nib\n",
    "import numpy as np\n",
    "\n",
    "def standardize_session(file_path):\n",
    "    # Load MRI data using nibabel\n",
    "    img = nib.load(file_path)\n",
    "    data = img.get_fdata()\n",
    "\n",
    "    # Compute mean and standard deviation of the session\n",
    "    mean = np.mean(data)\n",
    "    std = np.std(data)\n",
    "\n",
    "    # Standardize (z-score)\n",
    "    standardized_data = (data - mean) / std\n",
    "\n",
    "    # Save the standardized data\n",
    "    standardized_img = nib.Nifti1Image(standardized_data, img.affine, img.header)\n",
    "    output_path = file_path.replace('.nii.gz', '_standardized.nii.gz')\n",
    "    nib.save(standardized_img, output_path)\n",
    "\n",
    "    print(f'Saved standardized image to {output_path}')\n",
    "    return output_path"
   ]
  },
  {
   "cell_type": "code",
   "execution_count": 35,
   "id": "c7210292-21d3-456d-a815-56ef35da4d61",
   "metadata": {},
   "outputs": [
    {
     "name": "stdout",
     "output_type": "stream",
     "text": [
      "Saved standardized image to /home/jovyan/Data/dataset/ds000171/derivatives/preprocessed_data/sub-control01/func/sub-control01_task-music_run-2_bold_standardized.nii.gz\n",
      "Saved standardized image to /home/jovyan/Data/dataset/ds000171/derivatives/preprocessed_data/sub-control01/func/sub-control01_task-music_run-1_bold_standardized.nii.gz\n",
      "Saved standardized image to /home/jovyan/Data/dataset/ds000171/derivatives/preprocessed_data/sub-control01/func/sub-control01_task-music_run-3_bold_standardized.nii.gz\n",
      "Concatenated all sessions and saved to /home/jovyan/Data/dataset/ds000171/derivatives/preprocessed_data/sub-control01/func/sub-control01_task-music_run_concatenated.nii.gz\n"
     ]
    }
   ],
   "source": [
    "original_file_dir = op.join(preproc_root,subject_dir,'func')\n",
    "\n",
    "standardized_files = []\n",
    "\n",
    "for file in os.listdir(original_file_dir):\n",
    "    if '_task-music_run' in file and file.endswith('_bold.nii.gz'):\n",
    "        file_path = op.join(original_file_dir,file)\n",
    "        standardized_file = standardize_session(file_path)\n",
    "        img = nib.load(standardized_file)\n",
    "        data = img.get_fdata()\n",
    "        standardized_files.append(data)\n",
    "\n",
    "concatenated_data = np.concatenate(standardized_files, axis=3)\n",
    "\n",
    "# Save the concatenated data\n",
    "mkdir_no_exist(op.join(preproc_root, subject_dir, 'func'))\n",
    "mkdir_no_exist(op.join(preproc_root, subject_dir, 'fmap'))\n",
    "concatenated_img = nib.Nifti1Image(concatenated_data, img.affine, img.header)\n",
    "concatenated_fil_out_path = op.join(preproc_root, subject_dir, 'func','sub-control01_task-music_run_concatenated.nii.gz')\n",
    "nib.save(concatenated_img, concatenated_fil_out_path)\n",
    "\n",
    "print(f'Concatenated all sessions and saved to {concatenated_fil_out_path}')"
   ]
  },
  {
   "cell_type": "code",
   "execution_count": 36,
   "id": "399cd5cd-fff6-406d-8c9d-7d560bf7007a",
   "metadata": {},
   "outputs": [
    {
     "name": "stdout",
     "output_type": "stream",
     "text": [
      "|ds000171/\n",
      "|--- CHANGES\n",
      "|--- README\n",
      "|--- dataset_description.json\n",
      "|--- participants.tsv\n",
      "|--- derivatives/\n",
      "|------ preprocessed_data/\n",
      "|--------- sub-control01/\n",
      "|------------ anat/\n",
      "|--------------- sub-control01_T1w.nii.gz\n",
      "|--------------- sub-control01_T1w_fast_mixeltype.nii.gz\n",
      "|--------------- sub-control01_T1w_fast_pve_0.nii.gz\n",
      "|--------------- sub-control01_T1w_fast_pve_1.nii.gz\n",
      "|--------------- sub-control01_T1w_fast_pve_2.nii.gz\n",
      "|--------------- sub-control01_T1w_fast_pveseg.nii.gz\n",
      "|--------------- sub-control01_T1w_fast_seg.nii.gz\n",
      "|--------------- sub-control01_T1w_mask.nii.gz\n",
      "|--------------- sub-control01_T1w_mni.nii.gz\n",
      "|------------ fmap/\n",
      "|------------ func/\n",
      "|--------------- sub-control01_task-music_run-1_bold.nii.gz\n",
      "|--------------- sub-control01_task-music_run-1_bold_mask.nii.gz\n",
      "|--------------- sub-control01_task-music_run-1_bold_standardized.nii.gz\n",
      "|--------------- sub-control01_task-music_run-2_bold.nii.gz\n",
      "|--------------- sub-control01_task-music_run-2_bold_mask.nii.gz\n",
      "|--------------- sub-control01_task-music_run-2_bold_standardized.nii.gz\n",
      "|--------------- sub-control01_task-music_run-3_bold.nii.gz\n",
      "|--------------- sub-control01_task-music_run-3_bold_mask.nii.gz\n",
      "|--------------- sub-control01_task-music_run-3_bold_standardized.nii.gz\n",
      "|--------------- sub-control01_task-music_run_concatenated.nii.gz\n",
      "|--------------- .ipynb_checkpoints/\n",
      "|--- sub-control01/\n",
      "|------ anat/\n",
      "|--------- sub-control01_T1w.nii.gz\n",
      "|------ func/\n",
      "|--------- sub-control01_task-music_run-1_bold.nii.gz\n",
      "|--------- sub-control01_task-music_run-1_events.tsv\n",
      "|--------- sub-control01_task-music_run-2_bold.nii.gz\n",
      "|--------- sub-control01_task-music_run-2_events.tsv\n",
      "|--------- sub-control01_task-music_run-3_bold.nii.gz\n",
      "|--------- sub-control01_task-music_run-3_events.tsv\n",
      "|--------- sub-control01_task-nonmusic_run-4_bold.nii.gz\n",
      "|--------- sub-control01_task-nonmusic_run-4_events.tsv\n",
      "|--------- sub-control01_task-nonmusic_run-5_bold.nii.gz\n",
      "|--------- sub-control01_task-nonmusic_run-5_events.tsv\n"
     ]
    }
   ],
   "source": [
    "print_dir_tree(bids_root, max_depth=5)"
   ]
  },
  {
   "cell_type": "code",
   "execution_count": 37,
   "id": "7e188c29-461f-4881-ba3f-0b2c7df1a483",
   "metadata": {},
   "outputs": [
    {
     "data": {
      "text/plain": [
       "Text(0, 0.5, 'Mean voxel intensity after standardization')"
      ]
     },
     "execution_count": 37,
     "metadata": {},
     "output_type": "execute_result"
    },
    {
     "data": {
      "image/png": "[encoded data removed]",
      "text/plain": [
       "<Figure size 640x480 with 1 Axes>"
      ]
     },
     "metadata": {},
     "output_type": "display_data"
    }
   ],
   "source": [
    "# Visualize mean voxel intensity after standardization\n",
    "import matplotlib.pyplot as plt\n",
    "\n",
    "for file in os.listdir(op.join(preproc_root, 'sub-control01','func')):\n",
    "    if '_task-music_run' in file and file.endswith('_bold_standardized.nii.gz'):\n",
    "        filename = op.join(preproc_root, 'sub-control01','func',file)\n",
    "\n",
    "        mean_intensity = nib.load(filename).get_fdata().mean(axis=(0,1,2))\n",
    "        \n",
    "        plt.plot(mean_intensity,label = file.replace('_bold_standardized.nii.gz',''))\n",
    "\n",
    "plt.legend()\n",
    "plt.xlabel('Time (volume)')\n",
    "plt.ylabel('Mean voxel intensity after standardization')"
   ]
  },
  {
   "cell_type": "markdown",
   "id": "1d2f96f1-f8d3-4064-947b-c8ac43cbd0d1",
   "metadata": {},
   "source": [
    "## 3. Motion correction"
   ]
  },
  {
   "cell_type": "code",
   "execution_count": 38,
   "id": "7b43a848-93a5-4590-98ea-311808ce8281",
   "metadata": {},
   "outputs": [],
   "source": [
    "fsleyesDisplay.resetOverlays()\n",
    "fsleyesDisplay.load(op.join(preproc_root, 'sub-control01','func', 'sub-control01_task-music_run_concatenated.nii.gz'))"
   ]
  },
  {
   "cell_type": "code",
   "execution_count": 39,
   "id": "478ee11b-5078-466e-a011-f9a2b010fd1e",
   "metadata": {},
   "outputs": [
    {
     "name": "stderr",
     "output_type": "stream",
     "text": [
      "Processed data will be saved as /home/jovyan/Data/dataset/ds000171/derivatives/preprocessed_data/sub-control01/func/sub-control01_task-music_run_concatenated_moco\n",
      "\n",
      "McFLIRT v 2.0 - FMRI motion correction\n",
      "\n",
      "Reading time series... \n",
      "first iteration - 8mm scaling, set tolerance\n",
      "Rescaling reference volume [157] to 8 mm pixels\n",
      "Registering volumes ... [158][159][160][161][162][163][164][165][166][167][168][169][170][171][172][173][174][175][176][177][178][179][180][181][182][183][184][185][186][187][188][189][190][191][192][193][194][195][196][197][198][199][200][201][202][203][204][205][206][207][208][209][210][211][212][213][214][215][216][217][218][219][220][221][222][223][224][225][226][227][228][229][230][231][232][233][234][235][236][237][238][239][240][241][242][243][244][245][246][247][248][249][250][251][252][253][254][255][256][257][258][259][260][261][262][263][264][265][266][267][268][269][270][271][272][273][274][275][276][277][278][279][280][281][282][283][284][285][286][287][288][289][290][291][292][293][294][295][296][297][298][299][300][301][302][303][304][305][306][307][308][309][310][311][312][313][314][156][155][154][153][152][151][150][149][148][147][146][145][144][143][142][141][140][139][138][137][136][135][134][133][132][131][130][129][128][127][126][125][124][123][122][121][120][119][118][117][116][115][114][113][112][111][110][109][108][107][106][105][104][103][102][101][100][99][98][97][96][95][94][93][92][91][90][89][88][87][86][85][84][83][82][81][80][79][78][77][76][75][74][73][72][71][70][69][68][67][66][65][64][63][62][61][60][59][58][57][56][55][54][53][52][51][50][49][48][47][46][45][44][43][42][41][40][39][38][37][36][35][34][33][32][31][30][29][28][27][26][25][24][23][22][21][20][19][18][17][16][15][14][13][12][11][10][9][8][7][6][5][4][3][2][1][0]\n",
      "second iteration - drop to 4mm scaling\n",
      "Rescaling reference volume [157] to 4 mm pixels\n",
      "Registering volumes ... [158][159][160][161][162][163][164][165][166][167][168][169][170][171][172][173][174][175][176][177][178][179][180][181][182][183][184][185][186][187][188][189][190][191][192][193][194][195][196][197][198][199][200][201][202][203][204][205][206][207][208][209][210][211][212][213][214][215][216][217][218][219][220][221][222][223][224][225][226][227][228][229][230][231][232][233][234][235][236][237][238][239][240][241][242][243][244][245][246][247][248][249][250][251][252][253][254][255][256][257][258][259][260][261][262][263][264][265][266][267][268][269][270][271][272][273][274][275][276][277][278][279][280][281][282][283][284][285][286][287][288][289][290][291][292][293][294][295][296][297][298][299][300][301][302][303][304][305][306][307][308][309][310][311][312][313][314][156][155][154][153][152][151][150][149][148][147][146][145][144][143][142][141][140][139][138][137][136][135][134][133][132][131][130][129][128][127][126][125][124][123][122][121][120][119][118][117][116][115][114][113][112][111][110][109][108][107][106][105][104][103][102][101][100][99][98][97][96][95][94][93][92][91][90][89][88][87][86][85][84][83][82][81][80][79][78][77][76][75][74][73][72][71][70][69][68][67][66][65][64][63][62][61][60][59][58][57][56][55][54][53][52][51][50][49][48][47][46][45][44][43][42][41][40][39][38][37][36][35][34][33][32][31][30][29][28][27][26][25][24][23][22][21][20][19][18][17][16][15][14][13][12][11][10][9][8][7][6][5][4][3][2][1][0]\n",
      "third iteration - 4mm scaling, eighth tolerance\n"
     ]
    },
    {
     "name": "stdout",
     "output_type": "stream",
     "text": [
      "refnum = 157\n",
      "Original_refvol = -1\n"
     ]
    },
    {
     "name": "stderr",
     "output_type": "stream",
     "text": [
      "Registering volumes ... [158][159][160][161][162][163][164][165][166][167][168][169][170][171][172][173][174][175][176][177][178][179][180][181][182][183][184][185][186][187][188][189][190][191][192][193][194][195][196][197][198][199][200][201][202][203][204][205][206][207][208][209][210][211][212][213][214][215][216][217][218][219][220][221][222][223][224][225][226][227][228][229][230][231][232][233][234][235][236][237][238][239][240][241][242][243][244][245][246][247][248][249][250][251][252][253][254][255][256][257][258][259][260][261][262][263][264][265][266][267][268][269][270][271][272][273][274][275][276][277][278][279][280][281][282][283][284][285][286][287][288][289][290][291][292][293][294][295][296][297][298][299][300][301][302][303][304][305][306][307][308][309][310][311][312][313][314][156][155][154][153][152][151][150][149][148][147][146][145][144][143][142][141][140][139][138][137][136][135][134][133][132][131][130][129][128][127][126][125][124][123][122][121][120][119][118][117][116][115][114][113][112][111][110][109][108][107][106][105][104][103][102][101][100][99][98][97][96][95][94][93][92][91][90][89][88][87][86][85][84][83][82][81][80][79][78][77][76][75][74][73][72][71][70][69][68][67][66][65][64][63][62][61][60][59][58][57][56][55][54][53][52][51][50][49][48][47][46][45][44][43][42][41][40][39][38][37][36][35][34][33][32][31][30][29][28][27][26][25][24][23][22][21][20][19][18][17][16][15][14][13][12][11][10][9][8][7][6][5][4][3][2][1][0]\n",
      "Saving motion corrected time series... \n"
     ]
    },
    {
     "data": {
      "text/plain": [
       "{}"
      ]
     },
     "execution_count": 39,
     "metadata": {},
     "output_type": "execute_result"
    }
   ],
   "source": [
    "from fsl.wrappers import mcflirt\n",
    "\n",
    "path_original_data = op.join(preproc_root, subject_dir,'func', 'sub-control01_task-music_run_concatenated.nii.gz')\n",
    "path_moco_data = os.path.join(preproc_root, subject_dir, 'func', 'sub-control01_task-music_run_concatenated_moco')\n",
    "mcflirt(infile=path_original_data,o=path_moco_data, plots=True, report=True, dof=6, mats=True)"
   ]
  },
  {
   "cell_type": "code",
   "execution_count": 40,
   "id": "288ee65f-e54b-47e8-ae1c-b3cc46bf77bb",
   "metadata": {},
   "outputs": [],
   "source": [
    "fsleyesDisplay.resetOverlays()\n",
    "fsleyesDisplay.load(path_original_data)\n",
    "fsleyesDisplay.load(path_moco_data)"
   ]
  },
  {
   "cell_type": "code",
   "execution_count": 41,
   "id": "293f53ab-74db-4c26-9e59-c43a919261bc",
   "metadata": {},
   "outputs": [
    {
     "data": {
      "text/html": [
       "<div>\n",
       "<style scoped>\n",
       "    .dataframe tbody tr th:only-of-type {\n",
       "        vertical-align: middle;\n",
       "    }\n",
       "\n",
       "    .dataframe tbody tr th {\n",
       "        vertical-align: top;\n",
       "    }\n",
       "\n",
       "    .dataframe thead th {\n",
       "        text-align: right;\n",
       "    }\n",
       "</style>\n",
       "<table border=\"1\" class=\"dataframe\">\n",
       "  <thead>\n",
       "    <tr style=\"text-align: right;\">\n",
       "      <th></th>\n",
       "      <th>Rotation x</th>\n",
       "      <th>Rotation y</th>\n",
       "      <th>Rotation z</th>\n",
       "      <th>Translation x</th>\n",
       "      <th>Translation y</th>\n",
       "      <th>Translation z</th>\n",
       "    </tr>\n",
       "  </thead>\n",
       "  <tbody>\n",
       "    <tr>\n",
       "      <th>0</th>\n",
       "      <td>0.003579</td>\n",
       "      <td>-0.001914</td>\n",
       "      <td>-0.000897</td>\n",
       "      <td>-0.056796</td>\n",
       "      <td>0.120750</td>\n",
       "      <td>-0.014509</td>\n",
       "    </tr>\n",
       "    <tr>\n",
       "      <th>1</th>\n",
       "      <td>0.003245</td>\n",
       "      <td>-0.001664</td>\n",
       "      <td>-0.000970</td>\n",
       "      <td>-0.064549</td>\n",
       "      <td>0.152622</td>\n",
       "      <td>0.008203</td>\n",
       "    </tr>\n",
       "    <tr>\n",
       "      <th>2</th>\n",
       "      <td>0.003687</td>\n",
       "      <td>-0.001931</td>\n",
       "      <td>-0.000795</td>\n",
       "      <td>-0.053205</td>\n",
       "      <td>0.143015</td>\n",
       "      <td>0.025516</td>\n",
       "    </tr>\n",
       "    <tr>\n",
       "      <th>3</th>\n",
       "      <td>0.003245</td>\n",
       "      <td>-0.002375</td>\n",
       "      <td>-0.000703</td>\n",
       "      <td>-0.038205</td>\n",
       "      <td>0.175101</td>\n",
       "      <td>0.044440</td>\n",
       "    </tr>\n",
       "    <tr>\n",
       "      <th>4</th>\n",
       "      <td>0.003245</td>\n",
       "      <td>-0.002068</td>\n",
       "      <td>-0.000572</td>\n",
       "      <td>-0.040074</td>\n",
       "      <td>0.196084</td>\n",
       "      <td>0.091582</td>\n",
       "    </tr>\n",
       "    <tr>\n",
       "      <th>...</th>\n",
       "      <td>...</td>\n",
       "      <td>...</td>\n",
       "      <td>...</td>\n",
       "      <td>...</td>\n",
       "      <td>...</td>\n",
       "      <td>...</td>\n",
       "    </tr>\n",
       "    <tr>\n",
       "      <th>310</th>\n",
       "      <td>0.018324</td>\n",
       "      <td>-0.002975</td>\n",
       "      <td>-0.002443</td>\n",
       "      <td>-0.031626</td>\n",
       "      <td>0.960422</td>\n",
       "      <td>0.784622</td>\n",
       "    </tr>\n",
       "    <tr>\n",
       "      <th>311</th>\n",
       "      <td>0.018513</td>\n",
       "      <td>-0.002954</td>\n",
       "      <td>-0.002513</td>\n",
       "      <td>-0.029655</td>\n",
       "      <td>0.926141</td>\n",
       "      <td>0.784486</td>\n",
       "    </tr>\n",
       "    <tr>\n",
       "      <th>312</th>\n",
       "      <td>0.018302</td>\n",
       "      <td>-0.003234</td>\n",
       "      <td>-0.002513</td>\n",
       "      <td>-0.030656</td>\n",
       "      <td>0.949883</td>\n",
       "      <td>0.781924</td>\n",
       "    </tr>\n",
       "    <tr>\n",
       "      <th>313</th>\n",
       "      <td>0.018005</td>\n",
       "      <td>-0.003269</td>\n",
       "      <td>-0.002513</td>\n",
       "      <td>-0.047232</td>\n",
       "      <td>0.932789</td>\n",
       "      <td>0.754728</td>\n",
       "    </tr>\n",
       "    <tr>\n",
       "      <th>314</th>\n",
       "      <td>0.018946</td>\n",
       "      <td>-0.002364</td>\n",
       "      <td>-0.003198</td>\n",
       "      <td>-0.072142</td>\n",
       "      <td>0.935936</td>\n",
       "      <td>0.740474</td>\n",
       "    </tr>\n",
       "  </tbody>\n",
       "</table>\n",
       "<p>315 rows × 6 columns</p>\n",
       "</div>"
      ],
      "text/plain": [
       "     Rotation x  Rotation y  Rotation z  Translation x  Translation y  \\\n",
       "0      0.003579   -0.001914   -0.000897      -0.056796       0.120750   \n",
       "1      0.003245   -0.001664   -0.000970      -0.064549       0.152622   \n",
       "2      0.003687   -0.001931   -0.000795      -0.053205       0.143015   \n",
       "3      0.003245   -0.002375   -0.000703      -0.038205       0.175101   \n",
       "4      0.003245   -0.002068   -0.000572      -0.040074       0.196084   \n",
       "..          ...         ...         ...            ...            ...   \n",
       "310    0.018324   -0.002975   -0.002443      -0.031626       0.960422   \n",
       "311    0.018513   -0.002954   -0.002513      -0.029655       0.926141   \n",
       "312    0.018302   -0.003234   -0.002513      -0.030656       0.949883   \n",
       "313    0.018005   -0.003269   -0.002513      -0.047232       0.932789   \n",
       "314    0.018946   -0.002364   -0.003198      -0.072142       0.935936   \n",
       "\n",
       "     Translation z  \n",
       "0        -0.014509  \n",
       "1         0.008203  \n",
       "2         0.025516  \n",
       "3         0.044440  \n",
       "4         0.091582  \n",
       "..             ...  \n",
       "310       0.784622  \n",
       "311       0.784486  \n",
       "312       0.781924  \n",
       "313       0.754728  \n",
       "314       0.740474  \n",
       "\n",
       "[315 rows x 6 columns]"
      ]
     },
     "execution_count": 41,
     "metadata": {},
     "output_type": "execute_result"
    }
   ],
   "source": [
    "# check the the resulting correction parameters\n",
    "\n",
    "def load_mot_params_fsl_6_dof(path):\n",
    "    return pd.read_csv(path, sep='  ', header=None, \n",
    "            engine='python', names=['Rotation x', 'Rotation y', 'Rotation z','Translation x', 'Translation y', 'Translation z'])\n",
    "\n",
    "mot_params = load_mot_params_fsl_6_dof(op.join(preproc_root, subject_dir, 'func', 'sub-control01_task-music_run_concatenated_moco.par'))\n",
    "mot_params"
   ]
  },
  {
   "cell_type": "code",
   "execution_count": 44,
   "id": "0b581373-d30c-417f-900a-a937b113c6fc",
   "metadata": {},
   "outputs": [],
   "source": [
    "# Check the displacement on a 50mm radius sphere\n",
    "\n",
    "def compute_FD_power(mot_params):\n",
    "    framewise_diff = mot_params.diff().iloc[1:]\n",
    "\n",
    "    rot_params = framewise_diff[['Rotation x', 'Rotation y', 'Rotation z']]\n",
    "    converted_rots = rot_params*50\n",
    "    trans_params = framewise_diff[['Translation x', 'Translation y', 'Translation z']]\n",
    "    fd = converted_rots.abs().sum(axis=1) + trans_params.abs().sum(axis=1)\n",
    "    return fd\n",
    "\n",
    "fd = compute_FD_power(mot_params).to_numpy()"
   ]
  },
  {
   "cell_type": "code",
   "execution_count": 45,
   "id": "ce064aa2-063a-4098-baa1-4c9ea3024be7",
   "metadata": {},
   "outputs": [],
   "source": [
    "threshold = np.quantile(fd,0.75) + 1.5*(np.quantile(fd,0.75) - np.quantile(fd,0.25))"
   ]
  },
  {
   "cell_type": "code",
   "execution_count": 46,
   "id": "89aebe4f-0146-4911-8996-923929f38fbf",
   "metadata": {},
   "outputs": [
    {
     "data": {
      "image/png": "[encoded data removed]",
      "text/plain": [
       "<Figure size 640x480 with 1 Axes>"
      ]
     },
     "metadata": {},
     "output_type": "display_data"
    }
   ],
   "source": [
    "plt.plot(list(range(1, fd.size+1)), fd)\n",
    "plt.xlabel('Volume')\n",
    "plt.ylabel('FD displacement (mm)')\n",
    "plt.hlines(threshold, 0, 370,colors='black', linestyles='dashed', label='FD threshold')\n",
    "plt.legend()\n",
    "plt.show()"
   ]
  },
  {
   "cell_type": "code",
   "execution_count": 47,
   "id": "c844a1c9-aca6-4e7a-b67c-b27856431f0b",
   "metadata": {},
   "outputs": [
    {
     "data": {
      "text/plain": [
       "array([ 90,  97, 105, 210, 259, 261, 269, 272, 275, 301, 314])"
      ]
     },
     "execution_count": 47,
     "metadata": {},
     "output_type": "execute_result"
    }
   ],
   "source": [
    "np.where(fd > threshold)[0] + 1"
   ]
  },
  {
   "cell_type": "markdown",
   "id": "8854ff48-ead3-41c4-a1bd-784de5a4934d",
   "metadata": {},
   "source": [
    "## 4.Coregistration of functional to anatomical"
   ]
  },
  {
   "cell_type": "code",
   "execution_count": null,
   "id": "c852df0f-d03d-47c9-9222-f14864eaca55",
   "metadata": {},
   "outputs": [],
   "source": [
    "from fsl.wrappers import epi_reg\n",
    "\n",
    "epi_target = op.join(preproc_root, subject_dir, 'func', 'sub-control01_task-music_run_concatenated_moco')\n",
    "whole_t1 = op.join(bids_root, subject_dir, 'anat', 'sub-control01_T1w')\n",
    "skull_stripped_t1 = op.join(preproc_root, subject_dir, 'anat', 'sub-control01_T1w')\n",
    "white_matter_segmentation = op.join(preproc_root, subject_dir, 'anat', 'sub-control01_T1w_fast_pve_2.nii.gz') # Use the white matter segmentation\n",
    "\n",
    "output_path = op.join(preproc_root, subject_dir, 'func', 'sub-control01_task-music_run_concatenated_bbr')\n",
    "ref_vol_name =  op.join(preproc_root, subject_dir, 'func', 'sub-control01_task-music_run_concatenated_moco_vol_middle')\n",
    "\n",
    "use_single_vol = True\n",
    "\n",
    "\"\"\"\n",
    "if use_single_vol:\n",
    "    # Extract the middle volume with fslroi as we've seen before :)\n",
    "    middle_index= nib.load(op.join(preproc_root, subject_dir, 'func', 'sub-control01_task-music_run_concatenated.nii.gz')).shape[3]//2\n",
    "    fslroi(epi_target, ref_vol_name, str(middle_index), str(1))\n",
    "    # Call epi_reg\n",
    "    subprocess.run(['epi_reg','--epi={}'.format(ref_vol_name), '--t1={}'.format(whole_t1), '--t1brain={}'.format(skull_stripped_t1), \n",
    "                '--out={}'.format(output_path),\n",
    "               '--wmseg={}'.format(white_matter_segmentation)])\n",
    "else:\n",
    "    subprocess.run(['epi_reg','--epi={}'.format(epi_target), '--t1={}'.format(whole_t1), '--t1brain={}'.format(skull_stripped_t1), \n",
    "                '--out={}'.format(output_path),\n",
    "               '--wmseg={}'.format(white_matter_segmentation)])\n",
    "\"\"\"\n",
    "if use_single_vol:\n",
    "    # Extract the middle volume with fslroi as we've seen before :)\n",
    "    middle_index= nib.load(op.join(preproc_root, subject_dir, 'func', 'sub-control01_task-music_run_concatenated.nii.gz')).shape[3]//2\n",
    "    fslroi(epi_target, ref_vol_name, str(middle_index), str(1))\n",
    "    # Call epi_reg\n",
    "    subprocess.run(['epi_reg','--epi={}'.format(ref_vol_name), '--t1={}'.format(whole_t1), '--t1brain={}'.format(skull_stripped_t1), '--out={}'.format(output_path)])\n",
    "else:\n",
    "    subprocess.run(['epi_reg','--epi={}'.format(epi_target), '--t1={}'.format(whole_t1), '--t1brain={}'.format(skull_stripped_t1), '--out={}'.format(output_path)])\n",
    "\n"
   ]
  },
  {
   "cell_type": "code",
   "execution_count": 58,
   "id": "e7969119-539b-47c9-a4f4-cf11f3b4a147",
   "metadata": {},
   "outputs": [],
   "source": [
    "fsleyesDisplay.resetOverlays()\n",
    "fsleyesDisplay.load(skull_stripped_t1)\n",
    "fsleyesDisplay.load(output_path)"
   ]
  },
  {
   "cell_type": "markdown",
   "id": "336978bd-5c9f-4d9b-a2f0-097b3cec77af",
   "metadata": {},
   "source": [
    "## Smoothing"
   ]
  },
  {
   "cell_type": "code",
   "execution_count": 59,
   "id": "684c378e-83c7-43b0-a73c-fdcc1b8977d8",
   "metadata": {},
   "outputs": [
    {
     "data": {
      "text/plain": [
       "(2.9, 2.9, 3.0)"
      ]
     },
     "execution_count": 59,
     "metadata": {},
     "output_type": "execute_result"
    }
   ],
   "source": [
    "# Load the image & get the voxel size\n",
    "img = nib.load(op.join(preproc_root, 'sub-control01','func', 'sub-control01_task-music_run-1_bold.nii.gz'))\n",
    "voxel_size = img.header.get_zooms()[:3] \n",
    "voxel_size"
   ]
  },
  {
   "cell_type": "code",
   "execution_count": 60,
   "id": "d8a44715-9592-4260-9597-7e8ee9369c4c",
   "metadata": {},
   "outputs": [
    {
     "data": {
      "text/plain": [
       "CompletedProcess(args=['fslmaths', '/home/jovyan/Data/dataset/ds000171/derivatives/preprocessed_data/sub-control01/func/sub-control01_task-music_run_concatenated_bbr', '-s', '2.547987090198743', '/home/jovyan/Data/dataset/ds000171/derivatives/preprocessed_data/sub-control01/func/sub-control01_task-music_run_concatenated_bbr_smoothed-6mm'], returncode=0)"
      ]
     },
     "execution_count": 60,
     "metadata": {},
     "output_type": "execute_result"
    }
   ],
   "source": [
    "# Choose 6mm as FWHM\n",
    "cmd = 'fslmaths {} -s {} {}_smoothed-6mm'.format(output_path, 6/2.3548, output_path)\n",
    "subprocess.run(['fslmaths',output_path, '-s', str(6/2.3548), '{}_smoothed-6mm'.format(output_path)])"
   ]
  },
  {
   "cell_type": "code",
   "execution_count": 61,
   "id": "e62c24dd-7bf8-40b5-aa2d-44a4fb3365eb",
   "metadata": {},
   "outputs": [],
   "source": [
    "fsleyesDisplay.load(output_path + '_smoothed-6mm')"
   ]
  },
  {
   "cell_type": "code",
   "execution_count": null,
   "id": "478f56bd-3f72-4696-8e0c-da1a33fde2e7",
   "metadata": {},
   "outputs": [],
   "source": []
  }
 ],
 "metadata": {
  "kernelspec": {
   "display_name": "Python 3 (ipykernel)",
   "language": "python",
   "name": "python3"
  },
  "language_info": {
   "codemirror_mode": {
    "name": "ipython",
    "version": 3
   },
   "file_extension": ".py",
   "mimetype": "text/x-python",
   "name": "python",
   "nbconvert_exporter": "python",
   "pygments_lexer": "ipython3",
   "version": "3.11.6"
  }
 },
 "nbformat": 4,
 "nbformat_minor": 5
}
